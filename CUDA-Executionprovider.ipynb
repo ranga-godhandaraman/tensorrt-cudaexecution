{
 "cells": [
  {
   "cell_type": "markdown",
   "id": "6ada6fd3",
   "metadata": {},
   "source": [
    "# Accelerated inference on NVIDIA GPUs"
   ]
  },
  {
   "cell_type": "markdown",
   "id": "43a78bb3",
   "metadata": {},
   "source": [
    "By default, ONNX Runtime runs inference on CPU devices. However, it is possible to place supported operations on an NVIDIA GPU, while leaving any unsupported ones on CPU. In most cases, this allows costly operations to be placed on GPU and significantly accelerate inference.\n",
    "\n",
    "This guide will show you how to run inference on two execution providers that ONNX Runtime supports for NVIDIA GPUs:\n",
    "\n",
    "<ul><li>CUDAExecutionProvider: Generic acceleration on NVIDIA CUDA-enabled GPUs.\n",
    "<li>TensorrtExecutionProvider: Uses NVIDIA’s TensorRT inference engine and generally provides the best runtime performance.</ul>"
   ]
  },
  {
   "cell_type": "markdown",
   "id": "77e79b59",
   "metadata": {},
   "source": [
    "## CUDAExecutionProvider"
   ]
  },
  {
   "cell_type": "markdown",
   "id": "1f2c2d87",
   "metadata": {},
   "source": [
    "### CUDA installation"
   ]
  },
  {
   "cell_type": "markdown",
   "id": "c322d006",
   "metadata": {},
   "source": [
    "\n",
    "Provided the CUDA and cuDNN requirements are satisfied, install the additional dependencies by running"
   ]
  },
  {
   "cell_type": "raw",
   "id": "e1ffad6a",
   "metadata": {},
   "source": [
    "pip install optimum[onnxruntime-gpu]"
   ]
  },
  {
   "cell_type": "markdown",
   "id": "1ec4f463",
   "metadata": {},
   "source": [
    "To avoid conflicts between onnxruntime and onnxruntime-gpu, make sure the package onnxruntime is not installed by running pip uninstall onnxruntime prior to installing Optimum."
   ]
  },
  {
   "cell_type": "code",
   "execution_count": 1,
   "id": "d4b9906a",
   "metadata": {},
   "outputs": [],
   "source": [
    "import numpy as np\n",
    "import tensorrt\n",
    "import torch"
   ]
  },
  {
   "cell_type": "code",
   "execution_count": 2,
   "id": "265f8f6a",
   "metadata": {},
   "outputs": [
    {
     "name": "stderr",
     "output_type": "stream",
     "text": [
      "/home/ranga/anaconda3/lib/python3.11/site-packages/onnxruntime/capi/onnxruntime_validation.py:114: UserWarning: WARNING: failed to get cudart_version from onnxruntime build info.\n",
      "  warnings.warn(\"WARNING: failed to get cudart_version from onnxruntime build info.\")\n"
     ]
    }
   ],
   "source": [
    "from optimum.onnxruntime import ORTModelForSequenceClassification\n",
    "from transformers import AutoTokenizer"
   ]
  },
  {
   "cell_type": "code",
   "execution_count": 3,
   "id": "9459ea05",
   "metadata": {},
   "outputs": [
    {
     "name": "stderr",
     "output_type": "stream",
     "text": [
      "2024-01-24 11:48:23,801 urllib3.connectionpool [DEBUG] - Starting new HTTPS connection (1): huggingface.co:443\n",
      "2024-01-24 11:48:24,189 urllib3.connectionpool [DEBUG] - https://huggingface.co:443 \"HEAD /philschmid/tiny-bert-sst2-distilled/resolve/main/tokenizer_config.json HTTP/1.1\" 200 0\n"
     ]
    }
   ],
   "source": [
    "tokenizer = AutoTokenizer.from_pretrained(\"philschmid/tiny-bert-sst2-distilled\")\n",
    "inputs = tokenizer(\"expectations were low, actual enjoyment was high\", return_tensors=\"pt\", padding=True)"
   ]
  },
  {
   "cell_type": "code",
   "execution_count": 5,
   "id": "5bb62c6d",
   "metadata": {},
   "outputs": [
    {
     "name": "stderr",
     "output_type": "stream",
     "text": [
      "2024-01-24 11:49:01,739 urllib3.connectionpool [DEBUG] - https://huggingface.co:443 \"HEAD /philschmid/tiny-bert-sst2-distilled/resolve/main/config.json HTTP/1.1\" 200 0\n",
      "2024-01-24 11:49:02,055 urllib3.connectionpool [DEBUG] - https://huggingface.co:443 \"GET /api/models/philschmid/tiny-bert-sst2-distilled/tree/main?recursive=True&expand=False HTTP/1.1\" 200 1245\n",
      "Framework not specified. Using pt to export to ONNX.\n",
      "2024-01-24 11:49:02,293 urllib3.connectionpool [DEBUG] - https://huggingface.co:443 \"GET /api/models/philschmid/tiny-bert-sst2-distilled HTTP/1.1\" 200 1964\n",
      "2024-01-24 11:49:02,540 urllib3.connectionpool [DEBUG] - https://huggingface.co:443 \"HEAD /philschmid/tiny-bert-sst2-distilled/resolve/main/config.json HTTP/1.1\" 200 0\n",
      "2024-01-24 11:49:02,802 urllib3.connectionpool [DEBUG] - https://huggingface.co:443 \"HEAD /philschmid/tiny-bert-sst2-distilled/resolve/main/config.json HTTP/1.1\" 200 0\n",
      "2024-01-24 11:49:03,053 urllib3.connectionpool [DEBUG] - https://huggingface.co:443 \"HEAD /philschmid/tiny-bert-sst2-distilled/resolve/main/config.json HTTP/1.1\" 200 0\n",
      "2024-01-24 11:49:03,396 urllib3.connectionpool [DEBUG] - https://huggingface.co:443 \"HEAD /philschmid/tiny-bert-sst2-distilled/resolve/main/tokenizer_config.json HTTP/1.1\" 200 0\n",
      "2024-01-24 11:49:03,685 urllib3.connectionpool [DEBUG] - https://huggingface.co:443 \"HEAD /philschmid/tiny-bert-sst2-distilled/resolve/main/preprocessor_config.json HTTP/1.1\" 404 0\n",
      "2024-01-24 11:49:03,926 urllib3.connectionpool [DEBUG] - https://huggingface.co:443 \"HEAD /philschmid/tiny-bert-sst2-distilled/resolve/main/tokenizer_config.json HTTP/1.1\" 200 0\n",
      "2024-01-24 11:49:04,166 urllib3.connectionpool [DEBUG] - https://huggingface.co:443 \"HEAD /philschmid/tiny-bert-sst2-distilled/resolve/main/config.json HTTP/1.1\" 200 0\n",
      "2024-01-24 11:49:04,403 urllib3.connectionpool [DEBUG] - https://huggingface.co:443 \"HEAD /philschmid/tiny-bert-sst2-distilled/resolve/main/tokenizer_config.json HTTP/1.1\" 200 0\n",
      "2024-01-24 11:49:04,695 urllib3.connectionpool [DEBUG] - https://huggingface.co:443 \"HEAD /philschmid/tiny-bert-sst2-distilled/resolve/main/preprocessor_config.json HTTP/1.1\" 404 0\n",
      "Using the export variant default. Available variants are:\n",
      "    - default: The default ONNX variant.\n",
      "2024-01-24 11:49:04,943 urllib3.connectionpool [DEBUG] - https://huggingface.co:443 \"HEAD /philschmid/tiny-bert-sst2-distilled/resolve/main/tokenizer_config.json HTTP/1.1\" 200 0\n",
      "2024-01-24 11:49:05,194 urllib3.connectionpool [DEBUG] - https://huggingface.co:443 \"HEAD /philschmid/tiny-bert-sst2-distilled/resolve/main/preprocessor_config.json HTTP/1.1\" 404 0\n",
      "2024-01-24 11:49:05,442 urllib3.connectionpool [DEBUG] - https://huggingface.co:443 \"HEAD /philschmid/tiny-bert-sst2-distilled/resolve/main/tokenizer_config.json HTTP/1.1\" 200 0\n",
      "2024-01-24 11:49:05,691 urllib3.connectionpool [DEBUG] - https://huggingface.co:443 \"HEAD /philschmid/tiny-bert-sst2-distilled/resolve/main/config.json HTTP/1.1\" 200 0\n",
      "2024-01-24 11:49:05,966 urllib3.connectionpool [DEBUG] - https://huggingface.co:443 \"HEAD /philschmid/tiny-bert-sst2-distilled/resolve/main/tokenizer_config.json HTTP/1.1\" 200 0\n",
      "2024-01-24 11:49:06,229 urllib3.connectionpool [DEBUG] - https://huggingface.co:443 \"HEAD /philschmid/tiny-bert-sst2-distilled/resolve/main/preprocessor_config.json HTTP/1.1\" 404 0\n",
      "Using framework PyTorch: 2.1.2+cu121\n",
      "Overriding 1 configuration item(s)\n",
      "\t- use_cache -> False\n",
      "2024-01-24 11:49:06,771 urllib3.connectionpool [DEBUG] - https://huggingface.co:443 \"HEAD /philschmid/tiny-bert-sst2-distilled/resolve/main/tokenizer_config.json HTTP/1.1\" 200 0\n",
      "2024-01-24 11:49:07,050 urllib3.connectionpool [DEBUG] - https://huggingface.co:443 \"HEAD /philschmid/tiny-bert-sst2-distilled/resolve/main/preprocessor_config.json HTTP/1.1\" 404 0\n",
      "2024-01-24 11:49:07,305 urllib3.connectionpool [DEBUG] - https://huggingface.co:443 \"HEAD /philschmid/tiny-bert-sst2-distilled/resolve/main/tokenizer_config.json HTTP/1.1\" 200 0\n",
      "2024-01-24 11:49:07,551 urllib3.connectionpool [DEBUG] - https://huggingface.co:443 \"HEAD /philschmid/tiny-bert-sst2-distilled/resolve/main/config.json HTTP/1.1\" 200 0\n",
      "2024-01-24 11:49:07,943 urllib3.connectionpool [DEBUG] - https://huggingface.co:443 \"HEAD /philschmid/tiny-bert-sst2-distilled/resolve/main/tokenizer_config.json HTTP/1.1\" 200 0\n",
      "2024-01-24 11:49:08,203 urllib3.connectionpool [DEBUG] - https://huggingface.co:443 \"HEAD /philschmid/tiny-bert-sst2-distilled/resolve/main/preprocessor_config.json HTTP/1.1\" 404 0\n",
      "2024-01-24 11:49:09.021437214 [W:onnxruntime:, session_state.cc:1162 VerifyEachNodeIsAssignedToAnEp] Some nodes were not assigned to the preferred execution providers which may or may not have an negative impact on performance. e.g. ORT explicitly assigns shape related ops to CPU to improve perf.\n",
      "2024-01-24 11:49:09.021452841 [W:onnxruntime:, session_state.cc:1164 VerifyEachNodeIsAssignedToAnEp] Rerunning with verbose output on a non-minimal build will show node assignments.\n"
     ]
    }
   ],
   "source": [
    "ort_model = ORTModelForSequenceClassification.from_pretrained(\n",
    "  \"philschmid/tiny-bert-sst2-distilled\",\n",
    "  export=True,\n",
    "  provider=\"CUDAExecutionProvider\",\n",
    ")"
   ]
  },
  {
   "cell_type": "code",
   "execution_count": 6,
   "id": "55f8059a",
   "metadata": {},
   "outputs": [],
   "source": [
    "outputs = ort_model(**inputs)\n",
    "assert ort_model.providers == [\"CUDAExecutionProvider\", \"CPUExecutionProvider\"]"
   ]
  },
  {
   "cell_type": "markdown",
   "id": "5b325c56",
   "metadata": {},
   "source": [
    "In case this code runs gracefully, congratulations, the installation is successful! If you encounter the following error or similar,"
   ]
  },
  {
   "cell_type": "raw",
   "id": "0ea850c2",
   "metadata": {},
   "source": [
    "ValueError: Asked to use CUDAExecutionProvider as an ONNX Runtime execution provider, but the available execution providers are ['CPUExecutionProvider']."
   ]
  },
  {
   "cell_type": "markdown",
   "id": "0b47116f",
   "metadata": {},
   "source": [
    "\n",
    "then something is wrong with the CUDA or ONNX Runtime installation."
   ]
  },
  {
   "cell_type": "markdown",
   "id": "e07dafcc",
   "metadata": {},
   "source": [
    "### Use CUDA execution provider with floating-point models"
   ]
  },
  {
   "cell_type": "markdown",
   "id": "36855ba2",
   "metadata": {},
   "source": [
    "For non-quantized models, the use is straightforward. Simply specify the provider argument in the ORTModel.from_pretrained() method. Here’s an example:"
   ]
  },
  {
   "cell_type": "code",
   "execution_count": 8,
   "id": "1a1111d6",
   "metadata": {},
   "outputs": [],
   "source": [
    "from optimum.onnxruntime import ORTModelForSequenceClassification"
   ]
  },
  {
   "cell_type": "code",
   "execution_count": 9,
   "id": "61c75a1b",
   "metadata": {},
   "outputs": [
    {
     "name": "stderr",
     "output_type": "stream",
     "text": [
      "2024-01-24 11:53:48,133 urllib3.connectionpool [DEBUG] - Resetting dropped connection: huggingface.co\n",
      "2024-01-24 11:53:48,471 urllib3.connectionpool [DEBUG] - https://huggingface.co:443 \"HEAD /distilbert-base-uncased-finetuned-sst-2-english/resolve/main/config.json HTTP/1.1\" 200 0\n",
      "2024-01-24 11:53:48,742 urllib3.connectionpool [DEBUG] - https://huggingface.co:443 \"GET /api/models/distilbert-base-uncased-finetuned-sst-2-english/tree/main?recursive=True&expand=False HTTP/1.1\" 200 2448\n",
      "Framework not specified. Using pt to export to ONNX.\n",
      "2024-01-24 11:53:49,027 urllib3.connectionpool [DEBUG] - https://huggingface.co:443 \"GET /api/models/distilbert-base-uncased-finetuned-sst-2-english HTTP/1.1\" 200 20067\n",
      "2024-01-24 11:53:49,279 urllib3.connectionpool [DEBUG] - https://huggingface.co:443 \"HEAD /distilbert-base-uncased-finetuned-sst-2-english/resolve/main/config.json HTTP/1.1\" 200 0\n",
      "2024-01-24 11:53:49,538 urllib3.connectionpool [DEBUG] - https://huggingface.co:443 \"HEAD /distilbert-base-uncased-finetuned-sst-2-english/resolve/main/config.json HTTP/1.1\" 200 0\n",
      "2024-01-24 11:53:49,793 urllib3.connectionpool [DEBUG] - https://huggingface.co:443 \"HEAD /distilbert-base-uncased-finetuned-sst-2-english/resolve/main/config.json HTTP/1.1\" 200 0\n",
      "2024-01-24 11:53:50,564 urllib3.connectionpool [DEBUG] - https://huggingface.co:443 \"HEAD /distilbert-base-uncased-finetuned-sst-2-english/resolve/main/tokenizer_config.json HTTP/1.1\" 200 0\n",
      "2024-01-24 11:53:50,872 urllib3.connectionpool [DEBUG] - https://huggingface.co:443 \"HEAD /distilbert-base-uncased-finetuned-sst-2-english/resolve/main/preprocessor_config.json HTTP/1.1\" 404 0\n",
      "2024-01-24 11:53:51,116 urllib3.connectionpool [DEBUG] - https://huggingface.co:443 \"HEAD /distilbert-base-uncased-finetuned-sst-2-english/resolve/main/tokenizer_config.json HTTP/1.1\" 200 0\n",
      "2024-01-24 11:53:51,368 urllib3.connectionpool [DEBUG] - https://huggingface.co:443 \"HEAD /distilbert-base-uncased-finetuned-sst-2-english/resolve/main/config.json HTTP/1.1\" 200 0\n",
      "2024-01-24 11:53:51,625 urllib3.connectionpool [DEBUG] - https://huggingface.co:443 \"HEAD /distilbert-base-uncased-finetuned-sst-2-english/resolve/main/tokenizer_config.json HTTP/1.1\" 200 0\n",
      "2024-01-24 11:53:51,898 urllib3.connectionpool [DEBUG] - https://huggingface.co:443 \"HEAD /distilbert-base-uncased-finetuned-sst-2-english/resolve/main/preprocessor_config.json HTTP/1.1\" 404 0\n",
      "Using the export variant default. Available variants are:\n",
      "    - default: The default ONNX variant.\n",
      "2024-01-24 11:53:52,144 urllib3.connectionpool [DEBUG] - https://huggingface.co:443 \"HEAD /distilbert-base-uncased-finetuned-sst-2-english/resolve/main/tokenizer_config.json HTTP/1.1\" 200 0\n",
      "2024-01-24 11:53:52,436 urllib3.connectionpool [DEBUG] - https://huggingface.co:443 \"HEAD /distilbert-base-uncased-finetuned-sst-2-english/resolve/main/preprocessor_config.json HTTP/1.1\" 404 0\n",
      "2024-01-24 11:53:52,683 urllib3.connectionpool [DEBUG] - https://huggingface.co:443 \"HEAD /distilbert-base-uncased-finetuned-sst-2-english/resolve/main/tokenizer_config.json HTTP/1.1\" 200 0\n",
      "2024-01-24 11:53:52,926 urllib3.connectionpool [DEBUG] - https://huggingface.co:443 \"HEAD /distilbert-base-uncased-finetuned-sst-2-english/resolve/main/config.json HTTP/1.1\" 200 0\n",
      "2024-01-24 11:53:53,181 urllib3.connectionpool [DEBUG] - https://huggingface.co:443 \"HEAD /distilbert-base-uncased-finetuned-sst-2-english/resolve/main/tokenizer_config.json HTTP/1.1\" 200 0\n",
      "2024-01-24 11:53:53,453 urllib3.connectionpool [DEBUG] - https://huggingface.co:443 \"HEAD /distilbert-base-uncased-finetuned-sst-2-english/resolve/main/preprocessor_config.json HTTP/1.1\" 404 0\n",
      "Using framework PyTorch: 2.1.2+cu121\n",
      "/home/ranga/anaconda3/lib/python3.11/site-packages/transformers/models/distilbert/modeling_distilbert.py:223: TracerWarning: torch.tensor results are registered as constants in the trace. You can safely ignore this warning if you use this function to create tensors out of constant variables that would be the same every time you call this function. In any other case, this might cause the trace to be incorrect.\n",
      "  mask, torch.tensor(torch.finfo(scores.dtype).min)\n",
      "2024-01-24 11:53:55,639 urllib3.connectionpool [DEBUG] - https://huggingface.co:443 \"HEAD /distilbert-base-uncased-finetuned-sst-2-english/resolve/main/tokenizer_config.json HTTP/1.1\" 200 0\n",
      "2024-01-24 11:53:55,957 urllib3.connectionpool [DEBUG] - https://huggingface.co:443 \"HEAD /distilbert-base-uncased-finetuned-sst-2-english/resolve/main/preprocessor_config.json HTTP/1.1\" 404 0\n",
      "2024-01-24 11:53:56,204 urllib3.connectionpool [DEBUG] - https://huggingface.co:443 \"HEAD /distilbert-base-uncased-finetuned-sst-2-english/resolve/main/tokenizer_config.json HTTP/1.1\" 200 0\n",
      "2024-01-24 11:53:56,445 urllib3.connectionpool [DEBUG] - https://huggingface.co:443 \"HEAD /distilbert-base-uncased-finetuned-sst-2-english/resolve/main/config.json HTTP/1.1\" 200 0\n",
      "2024-01-24 11:53:56,687 urllib3.connectionpool [DEBUG] - https://huggingface.co:443 \"HEAD /distilbert-base-uncased-finetuned-sst-2-english/resolve/main/tokenizer_config.json HTTP/1.1\" 200 0\n",
      "2024-01-24 11:53:56,968 urllib3.connectionpool [DEBUG] - https://huggingface.co:443 \"HEAD /distilbert-base-uncased-finetuned-sst-2-english/resolve/main/preprocessor_config.json HTTP/1.1\" 404 0\n",
      "2024-01-24 11:53:57.204062157 [W:onnxruntime:, session_state.cc:1162 VerifyEachNodeIsAssignedToAnEp] Some nodes were not assigned to the preferred execution providers which may or may not have an negative impact on performance. e.g. ORT explicitly assigns shape related ops to CPU to improve perf.\n",
      "2024-01-24 11:53:57.204074902 [W:onnxruntime:, session_state.cc:1164 VerifyEachNodeIsAssignedToAnEp] Rerunning with verbose output on a non-minimal build will show node assignments.\n"
     ]
    }
   ],
   "source": [
    "ort_model = ORTModelForSequenceClassification.from_pretrained(\n",
    "  \"distilbert-base-uncased-finetuned-sst-2-english\",\n",
    "  export=True,\n",
    "  provider=\"CUDAExecutionProvider\",\n",
    ")"
   ]
  },
  {
   "cell_type": "markdown",
   "id": "97befe85",
   "metadata": {},
   "source": [
    "The model can then be used with the common 🤗 Transformers API for inference and evaluation, such as pipelines. When using Transformers pipeline, note that the device argument should be set to perform pre- and post-processing on GPU, following the example below:"
   ]
  },
  {
   "cell_type": "code",
   "execution_count": 10,
   "id": "5470bac5",
   "metadata": {},
   "outputs": [],
   "source": [
    "from optimum.pipelines import pipeline\n",
    "from transformers import AutoTokenizer"
   ]
  },
  {
   "cell_type": "code",
   "execution_count": 11,
   "id": "5b25a426",
   "metadata": {},
   "outputs": [
    {
     "name": "stderr",
     "output_type": "stream",
     "text": [
      "2024-01-24 11:54:50,696 urllib3.connectionpool [DEBUG] - https://huggingface.co:443 \"HEAD /distilbert-base-uncased-finetuned-sst-2-english/resolve/main/tokenizer_config.json HTTP/1.1\" 200 0\n"
     ]
    }
   ],
   "source": [
    "tokenizer = AutoTokenizer.from_pretrained(\"distilbert-base-uncased-finetuned-sst-2-english\")"
   ]
  },
  {
   "cell_type": "code",
   "execution_count": 12,
   "id": "2bbca6ae",
   "metadata": {},
   "outputs": [
    {
     "name": "stderr",
     "output_type": "stream",
     "text": [
      "2024-01-24 11:54:57.390759710 [W:onnxruntime:, session_state.cc:1162 VerifyEachNodeIsAssignedToAnEp] Some nodes were not assigned to the preferred execution providers which may or may not have an negative impact on performance. e.g. ORT explicitly assigns shape related ops to CPU to improve perf.\n",
      "2024-01-24 11:54:57.390771289 [W:onnxruntime:, session_state.cc:1164 VerifyEachNodeIsAssignedToAnEp] Rerunning with verbose output on a non-minimal build will show node assignments.\n"
     ]
    }
   ],
   "source": [
    "pipe = pipeline(task=\"text-classification\", model=ort_model, tokenizer=tokenizer, device=\"cuda:0\")\n",
    "result = pipe(\"Both the music and visual were astounding, not to mention the actors performance.\")"
   ]
  },
  {
   "cell_type": "code",
   "execution_count": 13,
   "id": "c92a053b",
   "metadata": {},
   "outputs": [
    {
     "name": "stdout",
     "output_type": "stream",
     "text": [
      "[{'label': 'POSITIVE', 'score': 0.9997727274894714}]\n"
     ]
    }
   ],
   "source": [
    "print(result)"
   ]
  },
  {
   "cell_type": "markdown",
   "id": "49ef0ea4",
   "metadata": {},
   "source": [
    "Additionally, you can pass the session option log_severity_level = 0 (verbose), to check whether all nodes are indeed placed on the CUDA execution provider or not:"
   ]
  },
  {
   "cell_type": "code",
   "execution_count": 14,
   "id": "b76cc688",
   "metadata": {},
   "outputs": [],
   "source": [
    "import onnxruntime"
   ]
  },
  {
   "cell_type": "code",
   "execution_count": 15,
   "id": "1fd6f59a",
   "metadata": {},
   "outputs": [],
   "source": [
    "session_options = onnxruntime.SessionOptions()\n",
    "session_options.log_severity_level = 0"
   ]
  },
  {
   "cell_type": "code",
   "execution_count": 16,
   "id": "defd12fb",
   "metadata": {},
   "outputs": [
    {
     "name": "stderr",
     "output_type": "stream",
     "text": [
      "2024-01-24 11:55:58,433 urllib3.connectionpool [DEBUG] - https://huggingface.co:443 \"HEAD /distilbert-base-uncased-finetuned-sst-2-english/resolve/main/config.json HTTP/1.1\" 200 0\n",
      "2024-01-24 11:55:58,678 urllib3.connectionpool [DEBUG] - https://huggingface.co:443 \"GET /api/models/distilbert-base-uncased-finetuned-sst-2-english/tree/main?recursive=True&expand=False HTTP/1.1\" 200 2448\n",
      "Framework not specified. Using pt to export to ONNX.\n",
      "2024-01-24 11:55:58,966 urllib3.connectionpool [DEBUG] - https://huggingface.co:443 \"GET /api/models/distilbert-base-uncased-finetuned-sst-2-english HTTP/1.1\" 200 20067\n",
      "2024-01-24 11:55:59,224 urllib3.connectionpool [DEBUG] - https://huggingface.co:443 \"HEAD /distilbert-base-uncased-finetuned-sst-2-english/resolve/main/config.json HTTP/1.1\" 200 0\n",
      "2024-01-24 11:55:59,481 urllib3.connectionpool [DEBUG] - https://huggingface.co:443 \"HEAD /distilbert-base-uncased-finetuned-sst-2-english/resolve/main/config.json HTTP/1.1\" 200 0\n",
      "2024-01-24 11:55:59,737 urllib3.connectionpool [DEBUG] - https://huggingface.co:443 \"HEAD /distilbert-base-uncased-finetuned-sst-2-english/resolve/main/config.json HTTP/1.1\" 200 0\n",
      "2024-01-24 11:56:00,334 urllib3.connectionpool [DEBUG] - https://huggingface.co:443 \"HEAD /distilbert-base-uncased-finetuned-sst-2-english/resolve/main/tokenizer_config.json HTTP/1.1\" 200 0\n",
      "2024-01-24 11:56:00,794 urllib3.connectionpool [DEBUG] - https://huggingface.co:443 \"HEAD /distilbert-base-uncased-finetuned-sst-2-english/resolve/main/preprocessor_config.json HTTP/1.1\" 404 0\n",
      "2024-01-24 11:56:01,215 urllib3.connectionpool [DEBUG] - https://huggingface.co:443 \"HEAD /distilbert-base-uncased-finetuned-sst-2-english/resolve/main/tokenizer_config.json HTTP/1.1\" 200 0\n",
      "2024-01-24 11:56:01,475 urllib3.connectionpool [DEBUG] - https://huggingface.co:443 \"HEAD /distilbert-base-uncased-finetuned-sst-2-english/resolve/main/config.json HTTP/1.1\" 200 0\n",
      "2024-01-24 11:56:01,714 urllib3.connectionpool [DEBUG] - https://huggingface.co:443 \"HEAD /distilbert-base-uncased-finetuned-sst-2-english/resolve/main/tokenizer_config.json HTTP/1.1\" 200 0\n",
      "2024-01-24 11:56:01,984 urllib3.connectionpool [DEBUG] - https://huggingface.co:443 \"HEAD /distilbert-base-uncased-finetuned-sst-2-english/resolve/main/preprocessor_config.json HTTP/1.1\" 404 0\n",
      "Using the export variant default. Available variants are:\n",
      "    - default: The default ONNX variant.\n",
      "2024-01-24 11:56:02,240 urllib3.connectionpool [DEBUG] - https://huggingface.co:443 \"HEAD /distilbert-base-uncased-finetuned-sst-2-english/resolve/main/tokenizer_config.json HTTP/1.1\" 200 0\n",
      "2024-01-24 11:56:02,508 urllib3.connectionpool [DEBUG] - https://huggingface.co:443 \"HEAD /distilbert-base-uncased-finetuned-sst-2-english/resolve/main/preprocessor_config.json HTTP/1.1\" 404 0\n",
      "2024-01-24 11:56:02,779 urllib3.connectionpool [DEBUG] - https://huggingface.co:443 \"HEAD /distilbert-base-uncased-finetuned-sst-2-english/resolve/main/tokenizer_config.json HTTP/1.1\" 200 0\n",
      "2024-01-24 11:56:03,081 urllib3.connectionpool [DEBUG] - https://huggingface.co:443 \"HEAD /distilbert-base-uncased-finetuned-sst-2-english/resolve/main/config.json HTTP/1.1\" 200 0\n",
      "2024-01-24 11:56:03,327 urllib3.connectionpool [DEBUG] - https://huggingface.co:443 \"HEAD /distilbert-base-uncased-finetuned-sst-2-english/resolve/main/tokenizer_config.json HTTP/1.1\" 200 0\n",
      "2024-01-24 11:56:03,647 urllib3.connectionpool [DEBUG] - https://huggingface.co:443 \"HEAD /distilbert-base-uncased-finetuned-sst-2-english/resolve/main/preprocessor_config.json HTTP/1.1\" 404 0\n",
      "Using framework PyTorch: 2.1.2+cu121\n",
      "/home/ranga/anaconda3/lib/python3.11/site-packages/transformers/models/distilbert/modeling_distilbert.py:223: TracerWarning: torch.tensor results are registered as constants in the trace. You can safely ignore this warning if you use this function to create tensors out of constant variables that would be the same every time you call this function. In any other case, this might cause the trace to be incorrect.\n",
      "  mask, torch.tensor(torch.finfo(scores.dtype).min)\n",
      "2024-01-24 11:56:05,481 urllib3.connectionpool [DEBUG] - https://huggingface.co:443 \"HEAD /distilbert-base-uncased-finetuned-sst-2-english/resolve/main/tokenizer_config.json HTTP/1.1\" 200 0\n",
      "2024-01-24 11:56:05,767 urllib3.connectionpool [DEBUG] - https://huggingface.co:443 \"HEAD /distilbert-base-uncased-finetuned-sst-2-english/resolve/main/preprocessor_config.json HTTP/1.1\" 404 0\n",
      "2024-01-24 11:56:06,016 urllib3.connectionpool [DEBUG] - https://huggingface.co:443 \"HEAD /distilbert-base-uncased-finetuned-sst-2-english/resolve/main/tokenizer_config.json HTTP/1.1\" 200 0\n",
      "2024-01-24 11:56:06,259 urllib3.connectionpool [DEBUG] - https://huggingface.co:443 \"HEAD /distilbert-base-uncased-finetuned-sst-2-english/resolve/main/config.json HTTP/1.1\" 200 0\n",
      "2024-01-24 11:56:06,506 urllib3.connectionpool [DEBUG] - https://huggingface.co:443 \"HEAD /distilbert-base-uncased-finetuned-sst-2-english/resolve/main/tokenizer_config.json HTTP/1.1\" 200 0\n",
      "2024-01-24 11:56:06,788 urllib3.connectionpool [DEBUG] - https://huggingface.co:443 \"HEAD /distilbert-base-uncased-finetuned-sst-2-english/resolve/main/preprocessor_config.json HTTP/1.1\" 404 0\n",
      "2024-01-24 11:56:06.881519520 [I:onnxruntime:, inference_session.cc:338 ConstructorCommon] Creating and using per session threadpools since use_per_session_threads_ is true\n",
      "2024-01-24 11:56:06.881541035 [I:onnxruntime:, inference_session.cc:356 ConstructorCommon] Dynamic block base set to 0\n",
      "2024-01-24 11:56:07.006367127 [I:onnxruntime:, inference_session.cc:1402 Initialize] Initializing session.\n",
      "2024-01-24 11:56:07.006391982 [I:onnxruntime:, inference_session.cc:1439 Initialize] Adding default CPU execution provider.\n",
      "2024-01-24 11:56:07.008525662 [I:onnxruntime:, constant_sharing.cc:256 ApplyImpl] Total shared scalar initializer count: 137\n",
      "2024-01-24 11:56:07.034019085 [I:onnxruntime:, graph.cc:3556 CleanUnusedInitializersAndNodeArgs] Removing initializer 'ortshared_1_0_1_5_token_141'. It is no longer used by any node.\n",
      "2024-01-24 11:56:07.034042809 [I:onnxruntime:, graph.cc:3556 CleanUnusedInitializersAndNodeArgs] Removing initializer 'ortshared_1_0_1_3_token_136'. It is no longer used by any node.\n",
      "2024-01-24 11:56:07.034045361 [I:onnxruntime:, graph.cc:3556 CleanUnusedInitializersAndNodeArgs] Removing initializer 'ortshared_1_0_1_0_token_129'. It is no longer used by any node.\n",
      "2024-01-24 11:56:07.034992415 [I:onnxruntime:, graph.cc:3556 CleanUnusedInitializersAndNodeArgs] Removing initializer 'ortshared_1_0_1_2_token_134'. It is no longer used by any node.\n",
      "2024-01-24 11:56:07.034998389 [I:onnxruntime:, graph.cc:3556 CleanUnusedInitializersAndNodeArgs] Removing initializer 'ortshared_1_0_1_1_token_131'. It is no longer used by any node.\n",
      "2024-01-24 11:56:07.035126167 [V:onnxruntime:, attention_fusion.cc:633 FuseSubGraph] Faild to find path v\n",
      "2024-01-24 11:56:07.035130747 [V:onnxruntime:, attention_fusion.cc:633 FuseSubGraph] Faild to find path v\n",
      "2024-01-24 11:56:07.035134029 [V:onnxruntime:, attention_fusion.cc:633 FuseSubGraph] Faild to find path v\n",
      "2024-01-24 11:56:07.035137018 [V:onnxruntime:, attention_fusion.cc:633 FuseSubGraph] Faild to find path v\n",
      "2024-01-24 11:56:07.035140006 [V:onnxruntime:, attention_fusion.cc:633 FuseSubGraph] Faild to find path v\n",
      "2024-01-24 11:56:07.035142878 [V:onnxruntime:, attention_fusion.cc:633 FuseSubGraph] Faild to find path v\n",
      "2024-01-24 11:56:07.035881681 [V:onnxruntime:, memory_optimizer.cc:278 ApplyImpl] Memory optimization config: , probe level: 0\n",
      "2024-01-24 11:56:07.035931726 [V:onnxruntime:, memory_optimizer.cc:287 ApplyImpl] No boundary op found. Skip memory optimization.\n",
      "2024-01-24 11:56:07.036359362 [V:onnxruntime:, attention_fusion.cc:633 FuseSubGraph] Faild to find path v\n",
      "2024-01-24 11:56:07.036362890 [V:onnxruntime:, attention_fusion.cc:633 FuseSubGraph] Faild to find path v\n",
      "2024-01-24 11:56:07.036365885 [V:onnxruntime:, attention_fusion.cc:633 FuseSubGraph] Faild to find path v\n",
      "2024-01-24 11:56:07.036368790 [V:onnxruntime:, attention_fusion.cc:633 FuseSubGraph] Faild to find path v\n",
      "2024-01-24 11:56:07.036371642 [V:onnxruntime:, attention_fusion.cc:633 FuseSubGraph] Faild to find path v\n",
      "2024-01-24 11:56:07.036374456 [V:onnxruntime:, attention_fusion.cc:633 FuseSubGraph] Faild to find path v\n",
      "2024-01-24 11:56:07.037512954 [V:onnxruntime:, attention_fusion.cc:633 FuseSubGraph] Faild to find path v\n",
      "2024-01-24 11:56:07.037516540 [V:onnxruntime:, attention_fusion.cc:633 FuseSubGraph] Faild to find path v\n",
      "2024-01-24 11:56:07.037519528 [V:onnxruntime:, attention_fusion.cc:633 FuseSubGraph] Faild to find path v\n",
      "2024-01-24 11:56:07.037522419 [V:onnxruntime:, attention_fusion.cc:633 FuseSubGraph] Faild to find path v\n",
      "2024-01-24 11:56:07.037525296 [V:onnxruntime:, attention_fusion.cc:633 FuseSubGraph] Faild to find path v\n",
      "2024-01-24 11:56:07.037528100 [V:onnxruntime:, attention_fusion.cc:633 FuseSubGraph] Faild to find path v\n",
      "2024-01-24 11:56:07.038663284 [V:onnxruntime:, attention_fusion.cc:633 FuseSubGraph] Faild to find path v\n",
      "2024-01-24 11:56:07.038666799 [V:onnxruntime:, attention_fusion.cc:633 FuseSubGraph] Faild to find path v\n",
      "2024-01-24 11:56:07.038669709 [V:onnxruntime:, attention_fusion.cc:633 FuseSubGraph] Faild to find path v\n",
      "2024-01-24 11:56:07.038672573 [V:onnxruntime:, attention_fusion.cc:633 FuseSubGraph] Faild to find path v\n",
      "2024-01-24 11:56:07.038675463 [V:onnxruntime:, attention_fusion.cc:633 FuseSubGraph] Faild to find path v\n",
      "2024-01-24 11:56:07.038678304 [V:onnxruntime:, attention_fusion.cc:633 FuseSubGraph] Faild to find path v\n",
      "2024-01-24 11:56:07.039815169 [V:onnxruntime:, attention_fusion.cc:633 FuseSubGraph] Faild to find path v\n",
      "2024-01-24 11:56:07.039827884 [V:onnxruntime:, attention_fusion.cc:633 FuseSubGraph] Faild to find path v\n",
      "2024-01-24 11:56:07.039830925 [V:onnxruntime:, attention_fusion.cc:633 FuseSubGraph] Faild to find path v\n",
      "2024-01-24 11:56:07.039833774 [V:onnxruntime:, attention_fusion.cc:633 FuseSubGraph] Faild to find path v\n",
      "2024-01-24 11:56:07.039836590 [V:onnxruntime:, attention_fusion.cc:633 FuseSubGraph] Faild to find path v\n",
      "2024-01-24 11:56:07.039839411 [V:onnxruntime:, attention_fusion.cc:633 FuseSubGraph] Faild to find path v\n",
      "2024-01-24 11:56:07.040956965 [V:onnxruntime:, attention_fusion.cc:633 FuseSubGraph] Faild to find path v\n",
      "2024-01-24 11:56:07.040960817 [V:onnxruntime:, attention_fusion.cc:633 FuseSubGraph] Faild to find path v\n",
      "2024-01-24 11:56:07.040963759 [V:onnxruntime:, attention_fusion.cc:633 FuseSubGraph] Faild to find path v\n",
      "2024-01-24 11:56:07.040966638 [V:onnxruntime:, attention_fusion.cc:633 FuseSubGraph] Faild to find path v\n",
      "2024-01-24 11:56:07.040969528 [V:onnxruntime:, attention_fusion.cc:633 FuseSubGraph] Faild to find path v\n",
      "2024-01-24 11:56:07.040972432 [V:onnxruntime:, attention_fusion.cc:633 FuseSubGraph] Faild to find path v\n",
      "2024-01-24 11:56:07.042085264 [V:onnxruntime:, attention_fusion.cc:633 FuseSubGraph] Faild to find path v\n",
      "2024-01-24 11:56:07.042088728 [V:onnxruntime:, attention_fusion.cc:633 FuseSubGraph] Faild to find path v\n",
      "2024-01-24 11:56:07.042091582 [V:onnxruntime:, attention_fusion.cc:633 FuseSubGraph] Faild to find path v\n",
      "2024-01-24 11:56:07.042094510 [V:onnxruntime:, attention_fusion.cc:633 FuseSubGraph] Faild to find path v\n",
      "2024-01-24 11:56:07.042097372 [V:onnxruntime:, attention_fusion.cc:633 FuseSubGraph] Faild to find path v\n",
      "2024-01-24 11:56:07.042100289 [V:onnxruntime:, attention_fusion.cc:633 FuseSubGraph] Faild to find path v\n",
      "2024-01-24 11:56:07.043229673 [V:onnxruntime:, attention_fusion.cc:633 FuseSubGraph] Faild to find path v\n",
      "2024-01-24 11:56:07.043233114 [V:onnxruntime:, attention_fusion.cc:633 FuseSubGraph] Faild to find path v\n",
      "2024-01-24 11:56:07.043236046 [V:onnxruntime:, attention_fusion.cc:633 FuseSubGraph] Faild to find path v\n",
      "2024-01-24 11:56:07.043238902 [V:onnxruntime:, attention_fusion.cc:633 FuseSubGraph] Faild to find path v\n",
      "2024-01-24 11:56:07.043241765 [V:onnxruntime:, attention_fusion.cc:633 FuseSubGraph] Faild to find path v\n",
      "2024-01-24 11:56:07.043244659 [V:onnxruntime:, attention_fusion.cc:633 FuseSubGraph] Faild to find path v\n",
      "2024-01-24 11:56:07.044364397 [V:onnxruntime:, attention_fusion.cc:633 FuseSubGraph] Faild to find path v\n",
      "2024-01-24 11:56:07.044368371 [V:onnxruntime:, attention_fusion.cc:633 FuseSubGraph] Faild to find path v\n",
      "2024-01-24 11:56:07.044371257 [V:onnxruntime:, attention_fusion.cc:633 FuseSubGraph] Faild to find path v\n",
      "2024-01-24 11:56:07.044374074 [V:onnxruntime:, attention_fusion.cc:633 FuseSubGraph] Faild to find path v\n",
      "2024-01-24 11:56:07.044376967 [V:onnxruntime:, attention_fusion.cc:633 FuseSubGraph] Faild to find path v\n",
      "2024-01-24 11:56:07.044379841 [V:onnxruntime:, attention_fusion.cc:633 FuseSubGraph] Faild to find path v\n",
      "2024-01-24 11:56:07.045511860 [V:onnxruntime:, attention_fusion.cc:633 FuseSubGraph] Faild to find path v\n",
      "2024-01-24 11:56:07.045515455 [V:onnxruntime:, attention_fusion.cc:633 FuseSubGraph] Faild to find path v\n",
      "2024-01-24 11:56:07.045518476 [V:onnxruntime:, attention_fusion.cc:633 FuseSubGraph] Faild to find path v\n",
      "2024-01-24 11:56:07.045521365 [V:onnxruntime:, attention_fusion.cc:633 FuseSubGraph] Faild to find path v\n",
      "2024-01-24 11:56:07.045524240 [V:onnxruntime:, attention_fusion.cc:633 FuseSubGraph] Faild to find path v\n",
      "2024-01-24 11:56:07.045527115 [V:onnxruntime:, attention_fusion.cc:633 FuseSubGraph] Faild to find path v\n",
      "2024-01-24 11:56:07.049968548 [V:onnxruntime:, session_state.cc:1142 VerifyEachNodeIsAssignedToAnEp] Node placements\n",
      "2024-01-24 11:56:07.049981699 [V:onnxruntime:, session_state.cc:1148 VerifyEachNodeIsAssignedToAnEp]  Node(s) placed on [CPUExecutionProvider]. Number of nodes: 44\n",
      "2024-01-24 11:56:07.057869931 [V:onnxruntime:, session_state.cc:1150 VerifyEachNodeIsAssignedToAnEp]   Gather (/distilbert/embeddings/Gather)\n",
      "2024-01-24 11:56:07.057882099 [V:onnxruntime:, session_state.cc:1150 VerifyEachNodeIsAssignedToAnEp]   Unsqueeze (/distilbert/embeddings/Unsqueeze)\n",
      "2024-01-24 11:56:07.057884959 [V:onnxruntime:, session_state.cc:1150 VerifyEachNodeIsAssignedToAnEp]   Gather (/distilbert/transformer/layer.0/attention/Gather)\n",
      "2024-01-24 11:56:07.057887181 [V:onnxruntime:, session_state.cc:1150 VerifyEachNodeIsAssignedToAnEp]   Gather (/distilbert/transformer/layer.0/attention/Gather_1)\n",
      "2024-01-24 11:56:07.057889185 [V:onnxruntime:, session_state.cc:1150 VerifyEachNodeIsAssignedToAnEp]   Concat (/distilbert/transformer/layer.0/attention/Concat_1)\n",
      "2024-01-24 11:56:07.057891077 [V:onnxruntime:, session_state.cc:1150 VerifyEachNodeIsAssignedToAnEp]   Unsqueeze (/distilbert/transformer/layer.0/attention/Unsqueeze_4)\n",
      "2024-01-24 11:56:07.057893037 [V:onnxruntime:, session_state.cc:1150 VerifyEachNodeIsAssignedToAnEp]   Concat (/distilbert/transformer/layer.0/attention/Concat_3)\n",
      "2024-01-24 11:56:07.057894957 [V:onnxruntime:, session_state.cc:1150 VerifyEachNodeIsAssignedToAnEp]   Unsqueeze (/distilbert/transformer/layer.0/attention/Unsqueeze_5)\n",
      "2024-01-24 11:56:07.057896815 [V:onnxruntime:, session_state.cc:1150 VerifyEachNodeIsAssignedToAnEp]   Concat (/distilbert/transformer/layer.0/attention/Concat_4)\n",
      "2024-01-24 11:56:07.057898707 [V:onnxruntime:, session_state.cc:1150 VerifyEachNodeIsAssignedToAnEp]   Gather (/distilbert/transformer/layer.1/attention/Gather)\n",
      "2024-01-24 11:56:07.057900550 [V:onnxruntime:, session_state.cc:1150 VerifyEachNodeIsAssignedToAnEp]   Gather (/distilbert/transformer/layer.1/attention/Gather_1)\n",
      "2024-01-24 11:56:07.057902353 [V:onnxruntime:, session_state.cc:1150 VerifyEachNodeIsAssignedToAnEp]   Concat (/distilbert/transformer/layer.1/attention/Concat_1)\n",
      "2024-01-24 11:56:07.057904163 [V:onnxruntime:, session_state.cc:1150 VerifyEachNodeIsAssignedToAnEp]   Unsqueeze (/distilbert/transformer/layer.1/attention/Unsqueeze_4)\n",
      "2024-01-24 11:56:07.057906072 [V:onnxruntime:, session_state.cc:1150 VerifyEachNodeIsAssignedToAnEp]   Concat (/distilbert/transformer/layer.1/attention/Concat_3)\n",
      "2024-01-24 11:56:07.057907916 [V:onnxruntime:, session_state.cc:1150 VerifyEachNodeIsAssignedToAnEp]   Unsqueeze (/distilbert/transformer/layer.1/attention/Unsqueeze_5)\n",
      "2024-01-24 11:56:07.057909728 [V:onnxruntime:, session_state.cc:1150 VerifyEachNodeIsAssignedToAnEp]   Concat (/distilbert/transformer/layer.1/attention/Concat_4)\n",
      "2024-01-24 11:56:07.057911590 [V:onnxruntime:, session_state.cc:1150 VerifyEachNodeIsAssignedToAnEp]   Gather (/distilbert/transformer/layer.2/attention/Gather)\n",
      "2024-01-24 11:56:07.057913465 [V:onnxruntime:, session_state.cc:1150 VerifyEachNodeIsAssignedToAnEp]   Gather (/distilbert/transformer/layer.2/attention/Gather_1)\n",
      "2024-01-24 11:56:07.057915292 [V:onnxruntime:, session_state.cc:1150 VerifyEachNodeIsAssignedToAnEp]   Concat (/distilbert/transformer/layer.2/attention/Concat_1)\n",
      "2024-01-24 11:56:07.057917100 [V:onnxruntime:, session_state.cc:1150 VerifyEachNodeIsAssignedToAnEp]   Unsqueeze (/distilbert/transformer/layer.2/attention/Unsqueeze_4)\n",
      "2024-01-24 11:56:07.057919008 [V:onnxruntime:, session_state.cc:1150 VerifyEachNodeIsAssignedToAnEp]   Concat (/distilbert/transformer/layer.2/attention/Concat_3)\n",
      "2024-01-24 11:56:07.057920880 [V:onnxruntime:, session_state.cc:1150 VerifyEachNodeIsAssignedToAnEp]   Unsqueeze (/distilbert/transformer/layer.2/attention/Unsqueeze_5)\n",
      "2024-01-24 11:56:07.057922794 [V:onnxruntime:, session_state.cc:1150 VerifyEachNodeIsAssignedToAnEp]   Concat (/distilbert/transformer/layer.2/attention/Concat_4)\n",
      "2024-01-24 11:56:07.057924607 [V:onnxruntime:, session_state.cc:1150 VerifyEachNodeIsAssignedToAnEp]   Gather (/distilbert/transformer/layer.3/attention/Gather)\n",
      "2024-01-24 11:56:07.057926490 [V:onnxruntime:, session_state.cc:1150 VerifyEachNodeIsAssignedToAnEp]   Gather (/distilbert/transformer/layer.3/attention/Gather_1)\n",
      "2024-01-24 11:56:07.057930326 [V:onnxruntime:, session_state.cc:1150 VerifyEachNodeIsAssignedToAnEp]   Concat (/distilbert/transformer/layer.3/attention/Concat_1)\n",
      "2024-01-24 11:56:07.057932215 [V:onnxruntime:, session_state.cc:1150 VerifyEachNodeIsAssignedToAnEp]   Unsqueeze (/distilbert/transformer/layer.3/attention/Unsqueeze_4)\n",
      "2024-01-24 11:56:07.057934193 [V:onnxruntime:, session_state.cc:1150 VerifyEachNodeIsAssignedToAnEp]   Concat (/distilbert/transformer/layer.3/attention/Concat_3)\n",
      "2024-01-24 11:56:07.057936077 [V:onnxruntime:, session_state.cc:1150 VerifyEachNodeIsAssignedToAnEp]   Unsqueeze (/distilbert/transformer/layer.3/attention/Unsqueeze_5)\n",
      "2024-01-24 11:56:07.057937872 [V:onnxruntime:, session_state.cc:1150 VerifyEachNodeIsAssignedToAnEp]   Concat (/distilbert/transformer/layer.3/attention/Concat_4)\n",
      "2024-01-24 11:56:07.057939739 [V:onnxruntime:, session_state.cc:1150 VerifyEachNodeIsAssignedToAnEp]   Gather (/distilbert/transformer/layer.4/attention/Gather)\n",
      "2024-01-24 11:56:07.057941554 [V:onnxruntime:, session_state.cc:1150 VerifyEachNodeIsAssignedToAnEp]   Gather (/distilbert/transformer/layer.4/attention/Gather_1)\n",
      "2024-01-24 11:56:07.057943352 [V:onnxruntime:, session_state.cc:1150 VerifyEachNodeIsAssignedToAnEp]   Concat (/distilbert/transformer/layer.4/attention/Concat_1)\n",
      "2024-01-24 11:56:07.057945168 [V:onnxruntime:, session_state.cc:1150 VerifyEachNodeIsAssignedToAnEp]   Unsqueeze (/distilbert/transformer/layer.4/attention/Unsqueeze_4)\n",
      "2024-01-24 11:56:07.057946972 [V:onnxruntime:, session_state.cc:1150 VerifyEachNodeIsAssignedToAnEp]   Concat (/distilbert/transformer/layer.4/attention/Concat_3)\n",
      "2024-01-24 11:56:07.057948785 [V:onnxruntime:, session_state.cc:1150 VerifyEachNodeIsAssignedToAnEp]   Unsqueeze (/distilbert/transformer/layer.4/attention/Unsqueeze_5)\n",
      "2024-01-24 11:56:07.057950658 [V:onnxruntime:, session_state.cc:1150 VerifyEachNodeIsAssignedToAnEp]   Concat (/distilbert/transformer/layer.4/attention/Concat_4)\n",
      "2024-01-24 11:56:07.057952486 [V:onnxruntime:, session_state.cc:1150 VerifyEachNodeIsAssignedToAnEp]   Gather (/distilbert/transformer/layer.5/attention/Gather)\n",
      "2024-01-24 11:56:07.057954356 [V:onnxruntime:, session_state.cc:1150 VerifyEachNodeIsAssignedToAnEp]   Gather (/distilbert/transformer/layer.5/attention/Gather_1)\n",
      "2024-01-24 11:56:07.057956226 [V:onnxruntime:, session_state.cc:1150 VerifyEachNodeIsAssignedToAnEp]   Concat (/distilbert/transformer/layer.5/attention/Concat_1)\n",
      "2024-01-24 11:56:07.057958128 [V:onnxruntime:, session_state.cc:1150 VerifyEachNodeIsAssignedToAnEp]   Unsqueeze (/distilbert/transformer/layer.5/attention/Unsqueeze_4)\n",
      "2024-01-24 11:56:07.057960015 [V:onnxruntime:, session_state.cc:1150 VerifyEachNodeIsAssignedToAnEp]   Concat (/distilbert/transformer/layer.5/attention/Concat_3)\n",
      "2024-01-24 11:56:07.057961895 [V:onnxruntime:, session_state.cc:1150 VerifyEachNodeIsAssignedToAnEp]   Unsqueeze (/distilbert/transformer/layer.5/attention/Unsqueeze_5)\n",
      "2024-01-24 11:56:07.057963685 [V:onnxruntime:, session_state.cc:1150 VerifyEachNodeIsAssignedToAnEp]   Concat (/distilbert/transformer/layer.5/attention/Concat_4)\n",
      "2024-01-24 11:56:07.057966231 [V:onnxruntime:, session_state.cc:1148 VerifyEachNodeIsAssignedToAnEp]  Node(s) placed on [CUDAExecutionProvider]. Number of nodes: 215\n",
      "2024-01-24 11:56:07.057968214 [V:onnxruntime:, session_state.cc:1150 VerifyEachNodeIsAssignedToAnEp]   Gather (/distilbert/embeddings/word_embeddings/Gather)\n",
      "2024-01-24 11:56:07.057970044 [V:onnxruntime:, session_state.cc:1150 VerifyEachNodeIsAssignedToAnEp]   Shape (/distilbert/embeddings/Shape)\n",
      "2024-01-24 11:56:07.057972122 [V:onnxruntime:, session_state.cc:1150 VerifyEachNodeIsAssignedToAnEp]   Slice (/distilbert/embeddings/Slice)\n",
      "2024-01-24 11:56:07.057973968 [V:onnxruntime:, session_state.cc:1150 VerifyEachNodeIsAssignedToAnEp]   Gather (/distilbert/embeddings/position_embeddings/Gather)\n",
      "2024-01-24 11:56:07.057975874 [V:onnxruntime:, session_state.cc:1150 VerifyEachNodeIsAssignedToAnEp]   Add (/distilbert/embeddings/Add)\n",
      "2024-01-24 11:56:07.057978078 [V:onnxruntime:, session_state.cc:1150 VerifyEachNodeIsAssignedToAnEp]   Shape (/distilbert/transformer/layer.0/attention/Shape)\n",
      "2024-01-24 11:56:07.057980271 [V:onnxruntime:, session_state.cc:1150 VerifyEachNodeIsAssignedToAnEp]   MatMul (/distilbert/transformer/layer.0/attention/q_lin/MatMul)\n",
      "2024-01-24 11:56:07.057982166 [V:onnxruntime:, session_state.cc:1150 VerifyEachNodeIsAssignedToAnEp]   Add (/distilbert/transformer/layer.0/attention/q_lin/Add)\n",
      "2024-01-24 11:56:07.057983990 [V:onnxruntime:, session_state.cc:1150 VerifyEachNodeIsAssignedToAnEp]   Reshape (/distilbert/transformer/layer.0/attention/Reshape)\n",
      "2024-01-24 11:56:07.057985873 [V:onnxruntime:, session_state.cc:1150 VerifyEachNodeIsAssignedToAnEp]   Transpose (/distilbert/transformer/layer.0/attention/Transpose)\n",
      "2024-01-24 11:56:07.057987673 [V:onnxruntime:, session_state.cc:1150 VerifyEachNodeIsAssignedToAnEp]   MatMul (/distilbert/transformer/layer.0/attention/k_lin/MatMul)\n",
      "2024-01-24 11:56:07.057989496 [V:onnxruntime:, session_state.cc:1150 VerifyEachNodeIsAssignedToAnEp]   Add (/distilbert/transformer/layer.0/attention/k_lin/Add)\n",
      "2024-01-24 11:56:07.057991364 [V:onnxruntime:, session_state.cc:1150 VerifyEachNodeIsAssignedToAnEp]   Reshape (/distilbert/transformer/layer.0/attention/Reshape_1)\n",
      "2024-01-24 11:56:07.057993234 [V:onnxruntime:, session_state.cc:1150 VerifyEachNodeIsAssignedToAnEp]   MatMul (/distilbert/transformer/layer.0/attention/v_lin/MatMul)\n",
      "2024-01-24 11:56:07.057995106 [V:onnxruntime:, session_state.cc:1150 VerifyEachNodeIsAssignedToAnEp]   Add (/distilbert/transformer/layer.0/attention/v_lin/Add)\n",
      "2024-01-24 11:56:07.057996912 [V:onnxruntime:, session_state.cc:1150 VerifyEachNodeIsAssignedToAnEp]   Reshape (/distilbert/transformer/layer.0/attention/Reshape_2)\n",
      "2024-01-24 11:56:07.057998742 [V:onnxruntime:, session_state.cc:1150 VerifyEachNodeIsAssignedToAnEp]   Transpose (/distilbert/transformer/layer.0/attention/Transpose_1)\n",
      "2024-01-24 11:56:07.058000647 [V:onnxruntime:, session_state.cc:1150 VerifyEachNodeIsAssignedToAnEp]   Div (/distilbert/transformer/layer.0/attention/Div)\n",
      "2024-01-24 11:56:07.058002495 [V:onnxruntime:, session_state.cc:1150 VerifyEachNodeIsAssignedToAnEp]   Transpose (/distilbert/transformer/layer.0/attention/Transpose_2)\n",
      "2024-01-24 11:56:07.058004295 [V:onnxruntime:, session_state.cc:1150 VerifyEachNodeIsAssignedToAnEp]   MatMul (/distilbert/transformer/layer.0/attention/MatMul)\n",
      "2024-01-24 11:56:07.058006183 [V:onnxruntime:, session_state.cc:1150 VerifyEachNodeIsAssignedToAnEp]   Equal (/distilbert/transformer/layer.0/attention/Equal)\n",
      "2024-01-24 11:56:07.058008001 [V:onnxruntime:, session_state.cc:1150 VerifyEachNodeIsAssignedToAnEp]   Reshape (/distilbert/transformer/layer.0/attention/Reshape_3)\n",
      "2024-01-24 11:56:07.058009796 [V:onnxruntime:, session_state.cc:1150 VerifyEachNodeIsAssignedToAnEp]   Shape (/distilbert/transformer/layer.0/attention/Shape_2)\n",
      "2024-01-24 11:56:07.058011670 [V:onnxruntime:, session_state.cc:1150 VerifyEachNodeIsAssignedToAnEp]   Expand (/distilbert/transformer/layer.0/attention/Expand)\n",
      "2024-01-24 11:56:07.058013562 [V:onnxruntime:, session_state.cc:1150 VerifyEachNodeIsAssignedToAnEp]   Where (/distilbert/transformer/layer.0/attention/Where)\n",
      "2024-01-24 11:56:07.058015456 [V:onnxruntime:, session_state.cc:1150 VerifyEachNodeIsAssignedToAnEp]   Softmax (/distilbert/transformer/layer.0/attention/Softmax)\n",
      "2024-01-24 11:56:07.058017325 [V:onnxruntime:, session_state.cc:1150 VerifyEachNodeIsAssignedToAnEp]   MatMul (/distilbert/transformer/layer.0/attention/MatMul_1)\n",
      "2024-01-24 11:56:07.058019131 [V:onnxruntime:, session_state.cc:1150 VerifyEachNodeIsAssignedToAnEp]   Transpose (/distilbert/transformer/layer.0/attention/Transpose_3)\n",
      "2024-01-24 11:56:07.058020964 [V:onnxruntime:, session_state.cc:1150 VerifyEachNodeIsAssignedToAnEp]   Reshape (/distilbert/transformer/layer.0/attention/Reshape_4)\n",
      "2024-01-24 11:56:07.058022755 [V:onnxruntime:, session_state.cc:1150 VerifyEachNodeIsAssignedToAnEp]   MatMul (/distilbert/transformer/layer.0/attention/out_lin/MatMul)\n",
      "2024-01-24 11:56:07.058024972 [V:onnxruntime:, session_state.cc:1150 VerifyEachNodeIsAssignedToAnEp]   Add (/distilbert/transformer/layer.0/attention/out_lin/Add)\n",
      "2024-01-24 11:56:07.058026778 [V:onnxruntime:, session_state.cc:1150 VerifyEachNodeIsAssignedToAnEp]   Add (/distilbert/transformer/layer.0/Add)\n",
      "2024-01-24 11:56:07.058028566 [V:onnxruntime:, session_state.cc:1150 VerifyEachNodeIsAssignedToAnEp]   MatMul (/distilbert/transformer/layer.0/ffn/lin1/MatMul)\n",
      "2024-01-24 11:56:07.058030341 [V:onnxruntime:, session_state.cc:1150 VerifyEachNodeIsAssignedToAnEp]   Add (/distilbert/transformer/layer.0/ffn/lin1/Add)\n",
      "2024-01-24 11:56:07.058032226 [V:onnxruntime:, session_state.cc:1150 VerifyEachNodeIsAssignedToAnEp]   MatMul (/distilbert/transformer/layer.0/ffn/lin2/MatMul)\n",
      "2024-01-24 11:56:07.058034016 [V:onnxruntime:, session_state.cc:1150 VerifyEachNodeIsAssignedToAnEp]   Add (/distilbert/transformer/layer.0/ffn/lin2/Add)\n",
      "2024-01-24 11:56:07.058035796 [V:onnxruntime:, session_state.cc:1150 VerifyEachNodeIsAssignedToAnEp]   Add (/distilbert/transformer/layer.0/Add_1)\n",
      "2024-01-24 11:56:07.058037734 [V:onnxruntime:, session_state.cc:1150 VerifyEachNodeIsAssignedToAnEp]   Shape (/distilbert/transformer/layer.1/attention/Shape)\n",
      "2024-01-24 11:56:07.058039547 [V:onnxruntime:, session_state.cc:1150 VerifyEachNodeIsAssignedToAnEp]   MatMul (/distilbert/transformer/layer.1/attention/q_lin/MatMul)\n",
      "2024-01-24 11:56:07.058041374 [V:onnxruntime:, session_state.cc:1150 VerifyEachNodeIsAssignedToAnEp]   Add (/distilbert/transformer/layer.1/attention/q_lin/Add)\n",
      "2024-01-24 11:56:07.058043235 [V:onnxruntime:, session_state.cc:1150 VerifyEachNodeIsAssignedToAnEp]   Reshape (/distilbert/transformer/layer.1/attention/Reshape)\n",
      "2024-01-24 11:56:07.058045030 [V:onnxruntime:, session_state.cc:1150 VerifyEachNodeIsAssignedToAnEp]   Transpose (/distilbert/transformer/layer.1/attention/Transpose)\n",
      "2024-01-24 11:56:07.058046814 [V:onnxruntime:, session_state.cc:1150 VerifyEachNodeIsAssignedToAnEp]   MatMul (/distilbert/transformer/layer.1/attention/k_lin/MatMul)\n",
      "2024-01-24 11:56:07.058048641 [V:onnxruntime:, session_state.cc:1150 VerifyEachNodeIsAssignedToAnEp]   Add (/distilbert/transformer/layer.1/attention/k_lin/Add)\n",
      "2024-01-24 11:56:07.058050432 [V:onnxruntime:, session_state.cc:1150 VerifyEachNodeIsAssignedToAnEp]   Reshape (/distilbert/transformer/layer.1/attention/Reshape_1)\n",
      "2024-01-24 11:56:07.058052234 [V:onnxruntime:, session_state.cc:1150 VerifyEachNodeIsAssignedToAnEp]   MatMul (/distilbert/transformer/layer.1/attention/v_lin/MatMul)\n",
      "2024-01-24 11:56:07.058054031 [V:onnxruntime:, session_state.cc:1150 VerifyEachNodeIsAssignedToAnEp]   Add (/distilbert/transformer/layer.1/attention/v_lin/Add)\n",
      "2024-01-24 11:56:07.058055853 [V:onnxruntime:, session_state.cc:1150 VerifyEachNodeIsAssignedToAnEp]   Reshape (/distilbert/transformer/layer.1/attention/Reshape_2)\n",
      "2024-01-24 11:56:07.058057654 [V:onnxruntime:, session_state.cc:1150 VerifyEachNodeIsAssignedToAnEp]   Transpose (/distilbert/transformer/layer.1/attention/Transpose_1)\n",
      "2024-01-24 11:56:07.058059461 [V:onnxruntime:, session_state.cc:1150 VerifyEachNodeIsAssignedToAnEp]   Div (/distilbert/transformer/layer.1/attention/Div)\n",
      "2024-01-24 11:56:07.058061261 [V:onnxruntime:, session_state.cc:1150 VerifyEachNodeIsAssignedToAnEp]   Transpose (/distilbert/transformer/layer.1/attention/Transpose_2)\n",
      "2024-01-24 11:56:07.058063122 [V:onnxruntime:, session_state.cc:1150 VerifyEachNodeIsAssignedToAnEp]   MatMul (/distilbert/transformer/layer.1/attention/MatMul)\n",
      "2024-01-24 11:56:07.058064959 [V:onnxruntime:, session_state.cc:1150 VerifyEachNodeIsAssignedToAnEp]   Reshape (/distilbert/transformer/layer.1/attention/Reshape_3)\n",
      "2024-01-24 11:56:07.058066825 [V:onnxruntime:, session_state.cc:1150 VerifyEachNodeIsAssignedToAnEp]   Shape (/distilbert/transformer/layer.1/attention/Shape_2)\n",
      "2024-01-24 11:56:07.058068682 [V:onnxruntime:, session_state.cc:1150 VerifyEachNodeIsAssignedToAnEp]   Expand (/distilbert/transformer/layer.1/attention/Expand)\n",
      "2024-01-24 11:56:07.058070908 [V:onnxruntime:, session_state.cc:1150 VerifyEachNodeIsAssignedToAnEp]   Where (/distilbert/transformer/layer.1/attention/Where)\n",
      "2024-01-24 11:56:07.058072823 [V:onnxruntime:, session_state.cc:1150 VerifyEachNodeIsAssignedToAnEp]   Softmax (/distilbert/transformer/layer.1/attention/Softmax)\n",
      "2024-01-24 11:56:07.058074604 [V:onnxruntime:, session_state.cc:1150 VerifyEachNodeIsAssignedToAnEp]   MatMul (/distilbert/transformer/layer.1/attention/MatMul_1)\n",
      "2024-01-24 11:56:07.058076503 [V:onnxruntime:, session_state.cc:1150 VerifyEachNodeIsAssignedToAnEp]   Transpose (/distilbert/transformer/layer.1/attention/Transpose_3)\n",
      "2024-01-24 11:56:07.058078386 [V:onnxruntime:, session_state.cc:1150 VerifyEachNodeIsAssignedToAnEp]   Reshape (/distilbert/transformer/layer.1/attention/Reshape_4)\n",
      "2024-01-24 11:56:07.058080179 [V:onnxruntime:, session_state.cc:1150 VerifyEachNodeIsAssignedToAnEp]   MatMul (/distilbert/transformer/layer.1/attention/out_lin/MatMul)\n",
      "2024-01-24 11:56:07.058082011 [V:onnxruntime:, session_state.cc:1150 VerifyEachNodeIsAssignedToAnEp]   Add (/distilbert/transformer/layer.1/attention/out_lin/Add)\n",
      "2024-01-24 11:56:07.058083814 [V:onnxruntime:, session_state.cc:1150 VerifyEachNodeIsAssignedToAnEp]   Add (/distilbert/transformer/layer.1/Add)\n",
      "2024-01-24 11:56:07.058085622 [V:onnxruntime:, session_state.cc:1150 VerifyEachNodeIsAssignedToAnEp]   MatMul (/distilbert/transformer/layer.1/ffn/lin1/MatMul)\n",
      "2024-01-24 11:56:07.058087430 [V:onnxruntime:, session_state.cc:1150 VerifyEachNodeIsAssignedToAnEp]   Add (/distilbert/transformer/layer.1/ffn/lin1/Add)\n",
      "2024-01-24 11:56:07.058089196 [V:onnxruntime:, session_state.cc:1150 VerifyEachNodeIsAssignedToAnEp]   MatMul (/distilbert/transformer/layer.1/ffn/lin2/MatMul)\n",
      "2024-01-24 11:56:07.058090979 [V:onnxruntime:, session_state.cc:1150 VerifyEachNodeIsAssignedToAnEp]   Add (/distilbert/transformer/layer.1/ffn/lin2/Add)\n",
      "2024-01-24 11:56:07.058092774 [V:onnxruntime:, session_state.cc:1150 VerifyEachNodeIsAssignedToAnEp]   Add (/distilbert/transformer/layer.1/Add_1)\n",
      "2024-01-24 11:56:07.058094574 [V:onnxruntime:, session_state.cc:1150 VerifyEachNodeIsAssignedToAnEp]   Shape (/distilbert/transformer/layer.2/attention/Shape)\n",
      "2024-01-24 11:56:07.058096412 [V:onnxruntime:, session_state.cc:1150 VerifyEachNodeIsAssignedToAnEp]   MatMul (/distilbert/transformer/layer.2/attention/q_lin/MatMul)\n",
      "2024-01-24 11:56:07.058098211 [V:onnxruntime:, session_state.cc:1150 VerifyEachNodeIsAssignedToAnEp]   Add (/distilbert/transformer/layer.2/attention/q_lin/Add)\n",
      "2024-01-24 11:56:07.058100038 [V:onnxruntime:, session_state.cc:1150 VerifyEachNodeIsAssignedToAnEp]   Reshape (/distilbert/transformer/layer.2/attention/Reshape)\n",
      "2024-01-24 11:56:07.058101834 [V:onnxruntime:, session_state.cc:1150 VerifyEachNodeIsAssignedToAnEp]   Transpose (/distilbert/transformer/layer.2/attention/Transpose)\n",
      "2024-01-24 11:56:07.058103652 [V:onnxruntime:, session_state.cc:1150 VerifyEachNodeIsAssignedToAnEp]   MatMul (/distilbert/transformer/layer.2/attention/k_lin/MatMul)\n",
      "2024-01-24 11:56:07.058105486 [V:onnxruntime:, session_state.cc:1150 VerifyEachNodeIsAssignedToAnEp]   Add (/distilbert/transformer/layer.2/attention/k_lin/Add)\n",
      "2024-01-24 11:56:07.058107296 [V:onnxruntime:, session_state.cc:1150 VerifyEachNodeIsAssignedToAnEp]   Reshape (/distilbert/transformer/layer.2/attention/Reshape_1)\n",
      "2024-01-24 11:56:07.058109110 [V:onnxruntime:, session_state.cc:1150 VerifyEachNodeIsAssignedToAnEp]   MatMul (/distilbert/transformer/layer.2/attention/v_lin/MatMul)\n",
      "2024-01-24 11:56:07.058110897 [V:onnxruntime:, session_state.cc:1150 VerifyEachNodeIsAssignedToAnEp]   Add (/distilbert/transformer/layer.2/attention/v_lin/Add)\n",
      "2024-01-24 11:56:07.058112675 [V:onnxruntime:, session_state.cc:1150 VerifyEachNodeIsAssignedToAnEp]   Reshape (/distilbert/transformer/layer.2/attention/Reshape_2)\n",
      "2024-01-24 11:56:07.058114473 [V:onnxruntime:, session_state.cc:1150 VerifyEachNodeIsAssignedToAnEp]   Transpose (/distilbert/transformer/layer.2/attention/Transpose_1)\n",
      "2024-01-24 11:56:07.058116679 [V:onnxruntime:, session_state.cc:1150 VerifyEachNodeIsAssignedToAnEp]   Div (/distilbert/transformer/layer.2/attention/Div)\n",
      "2024-01-24 11:56:07.058118571 [V:onnxruntime:, session_state.cc:1150 VerifyEachNodeIsAssignedToAnEp]   Transpose (/distilbert/transformer/layer.2/attention/Transpose_2)\n",
      "2024-01-24 11:56:07.058120403 [V:onnxruntime:, session_state.cc:1150 VerifyEachNodeIsAssignedToAnEp]   MatMul (/distilbert/transformer/layer.2/attention/MatMul)\n",
      "2024-01-24 11:56:07.058122178 [V:onnxruntime:, session_state.cc:1150 VerifyEachNodeIsAssignedToAnEp]   Reshape (/distilbert/transformer/layer.2/attention/Reshape_3)\n",
      "2024-01-24 11:56:07.058123981 [V:onnxruntime:, session_state.cc:1150 VerifyEachNodeIsAssignedToAnEp]   Shape (/distilbert/transformer/layer.2/attention/Shape_2)\n",
      "2024-01-24 11:56:07.058125857 [V:onnxruntime:, session_state.cc:1150 VerifyEachNodeIsAssignedToAnEp]   Expand (/distilbert/transformer/layer.2/attention/Expand)\n",
      "2024-01-24 11:56:07.058127659 [V:onnxruntime:, session_state.cc:1150 VerifyEachNodeIsAssignedToAnEp]   Where (/distilbert/transformer/layer.2/attention/Where)\n",
      "2024-01-24 11:56:07.058129528 [V:onnxruntime:, session_state.cc:1150 VerifyEachNodeIsAssignedToAnEp]   Softmax (/distilbert/transformer/layer.2/attention/Softmax)\n",
      "2024-01-24 11:56:07.058131421 [V:onnxruntime:, session_state.cc:1150 VerifyEachNodeIsAssignedToAnEp]   MatMul (/distilbert/transformer/layer.2/attention/MatMul_1)\n",
      "2024-01-24 11:56:07.058133230 [V:onnxruntime:, session_state.cc:1150 VerifyEachNodeIsAssignedToAnEp]   Transpose (/distilbert/transformer/layer.2/attention/Transpose_3)\n",
      "2024-01-24 11:56:07.058135114 [V:onnxruntime:, session_state.cc:1150 VerifyEachNodeIsAssignedToAnEp]   Reshape (/distilbert/transformer/layer.2/attention/Reshape_4)\n",
      "2024-01-24 11:56:07.058136938 [V:onnxruntime:, session_state.cc:1150 VerifyEachNodeIsAssignedToAnEp]   MatMul (/distilbert/transformer/layer.2/attention/out_lin/MatMul)\n",
      "2024-01-24 11:56:07.058138776 [V:onnxruntime:, session_state.cc:1150 VerifyEachNodeIsAssignedToAnEp]   Add (/distilbert/transformer/layer.2/attention/out_lin/Add)\n",
      "2024-01-24 11:56:07.058140556 [V:onnxruntime:, session_state.cc:1150 VerifyEachNodeIsAssignedToAnEp]   Add (/distilbert/transformer/layer.2/Add)\n",
      "2024-01-24 11:56:07.058142415 [V:onnxruntime:, session_state.cc:1150 VerifyEachNodeIsAssignedToAnEp]   MatMul (/distilbert/transformer/layer.2/ffn/lin1/MatMul)\n",
      "2024-01-24 11:56:07.058144191 [V:onnxruntime:, session_state.cc:1150 VerifyEachNodeIsAssignedToAnEp]   Add (/distilbert/transformer/layer.2/ffn/lin1/Add)\n",
      "2024-01-24 11:56:07.058145981 [V:onnxruntime:, session_state.cc:1150 VerifyEachNodeIsAssignedToAnEp]   MatMul (/distilbert/transformer/layer.2/ffn/lin2/MatMul)\n",
      "2024-01-24 11:56:07.058147756 [V:onnxruntime:, session_state.cc:1150 VerifyEachNodeIsAssignedToAnEp]   Add (/distilbert/transformer/layer.2/ffn/lin2/Add)\n",
      "2024-01-24 11:56:07.058149540 [V:onnxruntime:, session_state.cc:1150 VerifyEachNodeIsAssignedToAnEp]   Add (/distilbert/transformer/layer.2/Add_1)\n",
      "2024-01-24 11:56:07.058151320 [V:onnxruntime:, session_state.cc:1150 VerifyEachNodeIsAssignedToAnEp]   Shape (/distilbert/transformer/layer.3/attention/Shape)\n",
      "2024-01-24 11:56:07.058153166 [V:onnxruntime:, session_state.cc:1150 VerifyEachNodeIsAssignedToAnEp]   MatMul (/distilbert/transformer/layer.3/attention/q_lin/MatMul)\n",
      "2024-01-24 11:56:07.058154969 [V:onnxruntime:, session_state.cc:1150 VerifyEachNodeIsAssignedToAnEp]   Add (/distilbert/transformer/layer.3/attention/q_lin/Add)\n",
      "2024-01-24 11:56:07.058156837 [V:onnxruntime:, session_state.cc:1150 VerifyEachNodeIsAssignedToAnEp]   Reshape (/distilbert/transformer/layer.3/attention/Reshape)\n",
      "2024-01-24 11:56:07.058158646 [V:onnxruntime:, session_state.cc:1150 VerifyEachNodeIsAssignedToAnEp]   Transpose (/distilbert/transformer/layer.3/attention/Transpose)\n",
      "2024-01-24 11:56:07.058160444 [V:onnxruntime:, session_state.cc:1150 VerifyEachNodeIsAssignedToAnEp]   MatMul (/distilbert/transformer/layer.3/attention/k_lin/MatMul)\n",
      "2024-01-24 11:56:07.058162528 [V:onnxruntime:, session_state.cc:1150 VerifyEachNodeIsAssignedToAnEp]   Add (/distilbert/transformer/layer.3/attention/k_lin/Add)\n",
      "2024-01-24 11:56:07.058164360 [V:onnxruntime:, session_state.cc:1150 VerifyEachNodeIsAssignedToAnEp]   Reshape (/distilbert/transformer/layer.3/attention/Reshape_1)\n",
      "2024-01-24 11:56:07.058166152 [V:onnxruntime:, session_state.cc:1150 VerifyEachNodeIsAssignedToAnEp]   MatMul (/distilbert/transformer/layer.3/attention/v_lin/MatMul)\n",
      "2024-01-24 11:56:07.058167960 [V:onnxruntime:, session_state.cc:1150 VerifyEachNodeIsAssignedToAnEp]   Add (/distilbert/transformer/layer.3/attention/v_lin/Add)\n",
      "2024-01-24 11:56:07.058169761 [V:onnxruntime:, session_state.cc:1150 VerifyEachNodeIsAssignedToAnEp]   Reshape (/distilbert/transformer/layer.3/attention/Reshape_2)\n",
      "2024-01-24 11:56:07.058171590 [V:onnxruntime:, session_state.cc:1150 VerifyEachNodeIsAssignedToAnEp]   Transpose (/distilbert/transformer/layer.3/attention/Transpose_1)\n",
      "2024-01-24 11:56:07.058173399 [V:onnxruntime:, session_state.cc:1150 VerifyEachNodeIsAssignedToAnEp]   Div (/distilbert/transformer/layer.3/attention/Div)\n",
      "2024-01-24 11:56:07.058175334 [V:onnxruntime:, session_state.cc:1150 VerifyEachNodeIsAssignedToAnEp]   Transpose (/distilbert/transformer/layer.3/attention/Transpose_2)\n",
      "2024-01-24 11:56:07.058177228 [V:onnxruntime:, session_state.cc:1150 VerifyEachNodeIsAssignedToAnEp]   MatMul (/distilbert/transformer/layer.3/attention/MatMul)\n",
      "2024-01-24 11:56:07.058179126 [V:onnxruntime:, session_state.cc:1150 VerifyEachNodeIsAssignedToAnEp]   Reshape (/distilbert/transformer/layer.3/attention/Reshape_3)\n",
      "2024-01-24 11:56:07.058180923 [V:onnxruntime:, session_state.cc:1150 VerifyEachNodeIsAssignedToAnEp]   Shape (/distilbert/transformer/layer.3/attention/Shape_2)\n",
      "2024-01-24 11:56:07.058182773 [V:onnxruntime:, session_state.cc:1150 VerifyEachNodeIsAssignedToAnEp]   Expand (/distilbert/transformer/layer.3/attention/Expand)\n",
      "2024-01-24 11:56:07.058184546 [V:onnxruntime:, session_state.cc:1150 VerifyEachNodeIsAssignedToAnEp]   Where (/distilbert/transformer/layer.3/attention/Where)\n",
      "2024-01-24 11:56:07.058186337 [V:onnxruntime:, session_state.cc:1150 VerifyEachNodeIsAssignedToAnEp]   Softmax (/distilbert/transformer/layer.3/attention/Softmax)\n",
      "2024-01-24 11:56:07.058188164 [V:onnxruntime:, session_state.cc:1150 VerifyEachNodeIsAssignedToAnEp]   MatMul (/distilbert/transformer/layer.3/attention/MatMul_1)\n",
      "2024-01-24 11:56:07.058189979 [V:onnxruntime:, session_state.cc:1150 VerifyEachNodeIsAssignedToAnEp]   Transpose (/distilbert/transformer/layer.3/attention/Transpose_3)\n",
      "2024-01-24 11:56:07.058191772 [V:onnxruntime:, session_state.cc:1150 VerifyEachNodeIsAssignedToAnEp]   Reshape (/distilbert/transformer/layer.3/attention/Reshape_4)\n",
      "2024-01-24 11:56:07.058193655 [V:onnxruntime:, session_state.cc:1150 VerifyEachNodeIsAssignedToAnEp]   MatMul (/distilbert/transformer/layer.3/attention/out_lin/MatMul)\n",
      "2024-01-24 11:56:07.058195526 [V:onnxruntime:, session_state.cc:1150 VerifyEachNodeIsAssignedToAnEp]   Add (/distilbert/transformer/layer.3/attention/out_lin/Add)\n",
      "2024-01-24 11:56:07.058197327 [V:onnxruntime:, session_state.cc:1150 VerifyEachNodeIsAssignedToAnEp]   Add (/distilbert/transformer/layer.3/Add)\n",
      "2024-01-24 11:56:07.058199110 [V:onnxruntime:, session_state.cc:1150 VerifyEachNodeIsAssignedToAnEp]   MatMul (/distilbert/transformer/layer.3/ffn/lin1/MatMul)\n",
      "2024-01-24 11:56:07.058200909 [V:onnxruntime:, session_state.cc:1150 VerifyEachNodeIsAssignedToAnEp]   Add (/distilbert/transformer/layer.3/ffn/lin1/Add)\n",
      "2024-01-24 11:56:07.058202690 [V:onnxruntime:, session_state.cc:1150 VerifyEachNodeIsAssignedToAnEp]   MatMul (/distilbert/transformer/layer.3/ffn/lin2/MatMul)\n",
      "2024-01-24 11:56:07.058204494 [V:onnxruntime:, session_state.cc:1150 VerifyEachNodeIsAssignedToAnEp]   Add (/distilbert/transformer/layer.3/ffn/lin2/Add)\n",
      "2024-01-24 11:56:07.058206323 [V:onnxruntime:, session_state.cc:1150 VerifyEachNodeIsAssignedToAnEp]   Add (/distilbert/transformer/layer.3/Add_1)\n",
      "2024-01-24 11:56:07.058208587 [V:onnxruntime:, session_state.cc:1150 VerifyEachNodeIsAssignedToAnEp]   Shape (/distilbert/transformer/layer.4/attention/Shape)\n",
      "2024-01-24 11:56:07.058210411 [V:onnxruntime:, session_state.cc:1150 VerifyEachNodeIsAssignedToAnEp]   MatMul (/distilbert/transformer/layer.4/attention/q_lin/MatMul)\n",
      "2024-01-24 11:56:07.058212210 [V:onnxruntime:, session_state.cc:1150 VerifyEachNodeIsAssignedToAnEp]   Add (/distilbert/transformer/layer.4/attention/q_lin/Add)\n",
      "2024-01-24 11:56:07.058214008 [V:onnxruntime:, session_state.cc:1150 VerifyEachNodeIsAssignedToAnEp]   Reshape (/distilbert/transformer/layer.4/attention/Reshape)\n",
      "2024-01-24 11:56:07.058215794 [V:onnxruntime:, session_state.cc:1150 VerifyEachNodeIsAssignedToAnEp]   Transpose (/distilbert/transformer/layer.4/attention/Transpose)\n",
      "2024-01-24 11:56:07.058217673 [V:onnxruntime:, session_state.cc:1150 VerifyEachNodeIsAssignedToAnEp]   MatMul (/distilbert/transformer/layer.4/attention/k_lin/MatMul)\n",
      "2024-01-24 11:56:07.058219453 [V:onnxruntime:, session_state.cc:1150 VerifyEachNodeIsAssignedToAnEp]   Add (/distilbert/transformer/layer.4/attention/k_lin/Add)\n",
      "2024-01-24 11:56:07.058221207 [V:onnxruntime:, session_state.cc:1150 VerifyEachNodeIsAssignedToAnEp]   Reshape (/distilbert/transformer/layer.4/attention/Reshape_1)\n",
      "2024-01-24 11:56:07.058223061 [V:onnxruntime:, session_state.cc:1150 VerifyEachNodeIsAssignedToAnEp]   MatMul (/distilbert/transformer/layer.4/attention/v_lin/MatMul)\n",
      "2024-01-24 11:56:07.058224924 [V:onnxruntime:, session_state.cc:1150 VerifyEachNodeIsAssignedToAnEp]   Add (/distilbert/transformer/layer.4/attention/v_lin/Add)\n",
      "2024-01-24 11:56:07.058226725 [V:onnxruntime:, session_state.cc:1150 VerifyEachNodeIsAssignedToAnEp]   Reshape (/distilbert/transformer/layer.4/attention/Reshape_2)\n",
      "2024-01-24 11:56:07.058228535 [V:onnxruntime:, session_state.cc:1150 VerifyEachNodeIsAssignedToAnEp]   Transpose (/distilbert/transformer/layer.4/attention/Transpose_1)\n",
      "2024-01-24 11:56:07.058230336 [V:onnxruntime:, session_state.cc:1150 VerifyEachNodeIsAssignedToAnEp]   Div (/distilbert/transformer/layer.4/attention/Div)\n",
      "2024-01-24 11:56:07.058232140 [V:onnxruntime:, session_state.cc:1150 VerifyEachNodeIsAssignedToAnEp]   Transpose (/distilbert/transformer/layer.4/attention/Transpose_2)\n",
      "2024-01-24 11:56:07.058233916 [V:onnxruntime:, session_state.cc:1150 VerifyEachNodeIsAssignedToAnEp]   MatMul (/distilbert/transformer/layer.4/attention/MatMul)\n",
      "2024-01-24 11:56:07.058235700 [V:onnxruntime:, session_state.cc:1150 VerifyEachNodeIsAssignedToAnEp]   Reshape (/distilbert/transformer/layer.4/attention/Reshape_3)\n",
      "2024-01-24 11:56:07.058237472 [V:onnxruntime:, session_state.cc:1150 VerifyEachNodeIsAssignedToAnEp]   Shape (/distilbert/transformer/layer.4/attention/Shape_2)\n",
      "2024-01-24 11:56:07.058239352 [V:onnxruntime:, session_state.cc:1150 VerifyEachNodeIsAssignedToAnEp]   Expand (/distilbert/transformer/layer.4/attention/Expand)\n",
      "2024-01-24 11:56:07.058241166 [V:onnxruntime:, session_state.cc:1150 VerifyEachNodeIsAssignedToAnEp]   Where (/distilbert/transformer/layer.4/attention/Where)\n",
      "2024-01-24 11:56:07.058242962 [V:onnxruntime:, session_state.cc:1150 VerifyEachNodeIsAssignedToAnEp]   Softmax (/distilbert/transformer/layer.4/attention/Softmax)\n",
      "2024-01-24 11:56:07.058244753 [V:onnxruntime:, session_state.cc:1150 VerifyEachNodeIsAssignedToAnEp]   MatMul (/distilbert/transformer/layer.4/attention/MatMul_1)\n",
      "2024-01-24 11:56:07.058246586 [V:onnxruntime:, session_state.cc:1150 VerifyEachNodeIsAssignedToAnEp]   Transpose (/distilbert/transformer/layer.4/attention/Transpose_3)\n",
      "2024-01-24 11:56:07.058248397 [V:onnxruntime:, session_state.cc:1150 VerifyEachNodeIsAssignedToAnEp]   Reshape (/distilbert/transformer/layer.4/attention/Reshape_4)\n",
      "2024-01-24 11:56:07.058250240 [V:onnxruntime:, session_state.cc:1150 VerifyEachNodeIsAssignedToAnEp]   MatMul (/distilbert/transformer/layer.4/attention/out_lin/MatMul)\n",
      "2024-01-24 11:56:07.058252118 [V:onnxruntime:, session_state.cc:1150 VerifyEachNodeIsAssignedToAnEp]   Add (/distilbert/transformer/layer.4/attention/out_lin/Add)\n",
      "2024-01-24 11:56:07.058254505 [V:onnxruntime:, session_state.cc:1150 VerifyEachNodeIsAssignedToAnEp]   Add (/distilbert/transformer/layer.4/Add)\n",
      "2024-01-24 11:56:07.058256335 [V:onnxruntime:, session_state.cc:1150 VerifyEachNodeIsAssignedToAnEp]   MatMul (/distilbert/transformer/layer.4/ffn/lin1/MatMul)\n",
      "2024-01-24 11:56:07.058258167 [V:onnxruntime:, session_state.cc:1150 VerifyEachNodeIsAssignedToAnEp]   Add (/distilbert/transformer/layer.4/ffn/lin1/Add)\n",
      "2024-01-24 11:56:07.058259977 [V:onnxruntime:, session_state.cc:1150 VerifyEachNodeIsAssignedToAnEp]   MatMul (/distilbert/transformer/layer.4/ffn/lin2/MatMul)\n",
      "2024-01-24 11:56:07.058261768 [V:onnxruntime:, session_state.cc:1150 VerifyEachNodeIsAssignedToAnEp]   Add (/distilbert/transformer/layer.4/ffn/lin2/Add)\n",
      "2024-01-24 11:56:07.058263590 [V:onnxruntime:, session_state.cc:1150 VerifyEachNodeIsAssignedToAnEp]   Add (/distilbert/transformer/layer.4/Add_1)\n",
      "2024-01-24 11:56:07.058265392 [V:onnxruntime:, session_state.cc:1150 VerifyEachNodeIsAssignedToAnEp]   Shape (/distilbert/transformer/layer.5/attention/Shape)\n",
      "2024-01-24 11:56:07.058267183 [V:onnxruntime:, session_state.cc:1150 VerifyEachNodeIsAssignedToAnEp]   MatMul (/distilbert/transformer/layer.5/attention/q_lin/MatMul)\n",
      "2024-01-24 11:56:07.058268975 [V:onnxruntime:, session_state.cc:1150 VerifyEachNodeIsAssignedToAnEp]   Add (/distilbert/transformer/layer.5/attention/q_lin/Add)\n",
      "2024-01-24 11:56:07.058270787 [V:onnxruntime:, session_state.cc:1150 VerifyEachNodeIsAssignedToAnEp]   Reshape (/distilbert/transformer/layer.5/attention/Reshape)\n",
      "2024-01-24 11:56:07.058272563 [V:onnxruntime:, session_state.cc:1150 VerifyEachNodeIsAssignedToAnEp]   Transpose (/distilbert/transformer/layer.5/attention/Transpose)\n",
      "2024-01-24 11:56:07.058274383 [V:onnxruntime:, session_state.cc:1150 VerifyEachNodeIsAssignedToAnEp]   MatMul (/distilbert/transformer/layer.5/attention/k_lin/MatMul)\n",
      "2024-01-24 11:56:07.058276162 [V:onnxruntime:, session_state.cc:1150 VerifyEachNodeIsAssignedToAnEp]   Add (/distilbert/transformer/layer.5/attention/k_lin/Add)\n",
      "2024-01-24 11:56:07.058277938 [V:onnxruntime:, session_state.cc:1150 VerifyEachNodeIsAssignedToAnEp]   Reshape (/distilbert/transformer/layer.5/attention/Reshape_1)\n",
      "2024-01-24 11:56:07.058279742 [V:onnxruntime:, session_state.cc:1150 VerifyEachNodeIsAssignedToAnEp]   MatMul (/distilbert/transformer/layer.5/attention/v_lin/MatMul)\n",
      "2024-01-24 11:56:07.058281627 [V:onnxruntime:, session_state.cc:1150 VerifyEachNodeIsAssignedToAnEp]   Add (/distilbert/transformer/layer.5/attention/v_lin/Add)\n",
      "2024-01-24 11:56:07.058283452 [V:onnxruntime:, session_state.cc:1150 VerifyEachNodeIsAssignedToAnEp]   Reshape (/distilbert/transformer/layer.5/attention/Reshape_2)\n",
      "2024-01-24 11:56:07.058285254 [V:onnxruntime:, session_state.cc:1150 VerifyEachNodeIsAssignedToAnEp]   Transpose (/distilbert/transformer/layer.5/attention/Transpose_1)\n",
      "2024-01-24 11:56:07.058287063 [V:onnxruntime:, session_state.cc:1150 VerifyEachNodeIsAssignedToAnEp]   Div (/distilbert/transformer/layer.5/attention/Div)\n",
      "2024-01-24 11:56:07.058288977 [V:onnxruntime:, session_state.cc:1150 VerifyEachNodeIsAssignedToAnEp]   Transpose (/distilbert/transformer/layer.5/attention/Transpose_2)\n",
      "2024-01-24 11:56:07.058290793 [V:onnxruntime:, session_state.cc:1150 VerifyEachNodeIsAssignedToAnEp]   MatMul (/distilbert/transformer/layer.5/attention/MatMul)\n",
      "2024-01-24 11:56:07.058292599 [V:onnxruntime:, session_state.cc:1150 VerifyEachNodeIsAssignedToAnEp]   Reshape (/distilbert/transformer/layer.5/attention/Reshape_3)\n",
      "2024-01-24 11:56:07.058294389 [V:onnxruntime:, session_state.cc:1150 VerifyEachNodeIsAssignedToAnEp]   Shape (/distilbert/transformer/layer.5/attention/Shape_2)\n",
      "2024-01-24 11:56:07.058296168 [V:onnxruntime:, session_state.cc:1150 VerifyEachNodeIsAssignedToAnEp]   Expand (/distilbert/transformer/layer.5/attention/Expand)\n",
      "2024-01-24 11:56:07.058297967 [V:onnxruntime:, session_state.cc:1150 VerifyEachNodeIsAssignedToAnEp]   Where (/distilbert/transformer/layer.5/attention/Where)\n",
      "2024-01-24 11:56:07.058300056 [V:onnxruntime:, session_state.cc:1150 VerifyEachNodeIsAssignedToAnEp]   Softmax (/distilbert/transformer/layer.5/attention/Softmax)\n",
      "2024-01-24 11:56:07.058301862 [V:onnxruntime:, session_state.cc:1150 VerifyEachNodeIsAssignedToAnEp]   MatMul (/distilbert/transformer/layer.5/attention/MatMul_1)\n",
      "2024-01-24 11:56:07.058303721 [V:onnxruntime:, session_state.cc:1150 VerifyEachNodeIsAssignedToAnEp]   Transpose (/distilbert/transformer/layer.5/attention/Transpose_3)\n",
      "2024-01-24 11:56:07.058305609 [V:onnxruntime:, session_state.cc:1150 VerifyEachNodeIsAssignedToAnEp]   Reshape (/distilbert/transformer/layer.5/attention/Reshape_4)\n",
      "2024-01-24 11:56:07.058307451 [V:onnxruntime:, session_state.cc:1150 VerifyEachNodeIsAssignedToAnEp]   MatMul (/distilbert/transformer/layer.5/attention/out_lin/MatMul)\n",
      "2024-01-24 11:56:07.058309244 [V:onnxruntime:, session_state.cc:1150 VerifyEachNodeIsAssignedToAnEp]   Add (/distilbert/transformer/layer.5/attention/out_lin/Add)\n",
      "2024-01-24 11:56:07.058311078 [V:onnxruntime:, session_state.cc:1150 VerifyEachNodeIsAssignedToAnEp]   Add (/distilbert/transformer/layer.5/Add)\n",
      "2024-01-24 11:56:07.058312861 [V:onnxruntime:, session_state.cc:1150 VerifyEachNodeIsAssignedToAnEp]   MatMul (/distilbert/transformer/layer.5/ffn/lin1/MatMul)\n",
      "2024-01-24 11:56:07.058314662 [V:onnxruntime:, session_state.cc:1150 VerifyEachNodeIsAssignedToAnEp]   Add (/distilbert/transformer/layer.5/ffn/lin1/Add)\n",
      "2024-01-24 11:56:07.058316447 [V:onnxruntime:, session_state.cc:1150 VerifyEachNodeIsAssignedToAnEp]   MatMul (/distilbert/transformer/layer.5/ffn/lin2/MatMul)\n",
      "2024-01-24 11:56:07.058318256 [V:onnxruntime:, session_state.cc:1150 VerifyEachNodeIsAssignedToAnEp]   Add (/distilbert/transformer/layer.5/ffn/lin2/Add)\n",
      "2024-01-24 11:56:07.058320028 [V:onnxruntime:, session_state.cc:1150 VerifyEachNodeIsAssignedToAnEp]   Add (/distilbert/transformer/layer.5/Add_1)\n",
      "2024-01-24 11:56:07.058321841 [V:onnxruntime:, session_state.cc:1150 VerifyEachNodeIsAssignedToAnEp]   Gather (/Gather)\n",
      "2024-01-24 11:56:07.058323686 [V:onnxruntime:, session_state.cc:1150 VerifyEachNodeIsAssignedToAnEp]   Gemm (/pre_classifier/Gemm)\n",
      "2024-01-24 11:56:07.058325535 [V:onnxruntime:, session_state.cc:1150 VerifyEachNodeIsAssignedToAnEp]   Relu (/Relu)\n",
      "2024-01-24 11:56:07.058327451 [V:onnxruntime:, session_state.cc:1150 VerifyEachNodeIsAssignedToAnEp]   Gemm (/classifier/Gemm)\n",
      "2024-01-24 11:56:07.058329289 [V:onnxruntime:, session_state.cc:1150 VerifyEachNodeIsAssignedToAnEp]   Gelu (Gelu)\n",
      "2024-01-24 11:56:07.058331071 [V:onnxruntime:, session_state.cc:1150 VerifyEachNodeIsAssignedToAnEp]   Gelu (Gelu_token_144)\n",
      "2024-01-24 11:56:07.058332871 [V:onnxruntime:, session_state.cc:1150 VerifyEachNodeIsAssignedToAnEp]   Gelu (Gelu_token_145)\n",
      "2024-01-24 11:56:07.058334639 [V:onnxruntime:, session_state.cc:1150 VerifyEachNodeIsAssignedToAnEp]   Gelu (Gelu_token_146)\n",
      "2024-01-24 11:56:07.058336477 [V:onnxruntime:, session_state.cc:1150 VerifyEachNodeIsAssignedToAnEp]   Gelu (Gelu_token_147)\n",
      "2024-01-24 11:56:07.058338260 [V:onnxruntime:, session_state.cc:1150 VerifyEachNodeIsAssignedToAnEp]   Gelu (Gelu_token_148)\n",
      "2024-01-24 11:56:07.058340047 [V:onnxruntime:, session_state.cc:1150 VerifyEachNodeIsAssignedToAnEp]   LayerNormalization (LayerNormalization)\n",
      "2024-01-24 11:56:07.058341893 [V:onnxruntime:, session_state.cc:1150 VerifyEachNodeIsAssignedToAnEp]   LayerNormalization (LayerNormalization_token_149)\n",
      "2024-01-24 11:56:07.058343715 [V:onnxruntime:, session_state.cc:1150 VerifyEachNodeIsAssignedToAnEp]   LayerNormalization (LayerNormalization_token_152)\n",
      "2024-01-24 11:56:07.058345524 [V:onnxruntime:, session_state.cc:1150 VerifyEachNodeIsAssignedToAnEp]   LayerNormalization (LayerNormalization_token_155)\n",
      "2024-01-24 11:56:07.058347335 [V:onnxruntime:, session_state.cc:1150 VerifyEachNodeIsAssignedToAnEp]   LayerNormalization (LayerNormalization_token_158)\n",
      "2024-01-24 11:56:07.058349142 [V:onnxruntime:, session_state.cc:1150 VerifyEachNodeIsAssignedToAnEp]   LayerNormalization (LayerNormalization_token_161)\n",
      "2024-01-24 11:56:07.058351282 [V:onnxruntime:, session_state.cc:1150 VerifyEachNodeIsAssignedToAnEp]   LayerNormalization (LayerNormalization_token_164)\n",
      "2024-01-24 11:56:07.058353099 [V:onnxruntime:, session_state.cc:1150 VerifyEachNodeIsAssignedToAnEp]   LayerNormalization (LayerNormalization_token_167)\n",
      "2024-01-24 11:56:07.058354889 [V:onnxruntime:, session_state.cc:1150 VerifyEachNodeIsAssignedToAnEp]   LayerNormalization (LayerNormalization_token_170)\n",
      "2024-01-24 11:56:07.058356668 [V:onnxruntime:, session_state.cc:1150 VerifyEachNodeIsAssignedToAnEp]   LayerNormalization (LayerNormalization_token_173)\n",
      "2024-01-24 11:56:07.058358467 [V:onnxruntime:, session_state.cc:1150 VerifyEachNodeIsAssignedToAnEp]   LayerNormalization (LayerNormalization_token_176)\n",
      "2024-01-24 11:56:07.058360264 [V:onnxruntime:, session_state.cc:1150 VerifyEachNodeIsAssignedToAnEp]   LayerNormalization (LayerNormalization_token_179)\n",
      "2024-01-24 11:56:07.058362056 [V:onnxruntime:, session_state.cc:1150 VerifyEachNodeIsAssignedToAnEp]   LayerNormalization (LayerNormalization_token_182)\n",
      "2024-01-24 11:56:07.058364417 [W:onnxruntime:, session_state.cc:1162 VerifyEachNodeIsAssignedToAnEp] Some nodes were not assigned to the preferred execution providers which may or may not have an negative impact on performance. e.g. ORT explicitly assigns shape related ops to CPU to improve perf.\n",
      "2024-01-24 11:56:07.059023179 [V:onnxruntime:, session_state.cc:126 CreateGraphInfo] SaveMLValueNameIndexMapping\n",
      "2024-01-24 11:56:07.059071399 [V:onnxruntime:, session_state.cc:172 CreateGraphInfo] Done saving OrtValue mappings.\n",
      "2024-01-24 11:56:07.059085589 [I:onnxruntime:, allocation_planner.cc:2401 CreateGraphPartitioner] Use DeviceBasedPartition as default\n",
      "2024-01-24 11:56:07.059722598 [I:onnxruntime:, session_state_utils.cc:201 SaveInitializedTensors] Saving initialized tensors.\n",
      "2024-01-24 11:56:07.245263472 [I:onnxruntime:, session_state_utils.cc:345 SaveInitializedTensors] Done saving initialized tensors\n",
      "2024-01-24 11:56:07.245684965 [I:onnxruntime:, inference_session.cc:1787 Initialize] Session successfully initialized.\n"
     ]
    }
   ],
   "source": [
    "ort_model = ORTModelForSequenceClassification.from_pretrained(\n",
    "    \"distilbert-base-uncased-finetuned-sst-2-english\",\n",
    "    export=True,\n",
    "    provider=\"CUDAExecutionProvider\",\n",
    "    session_options=session_options\n",
    ")"
   ]
  },
  {
   "cell_type": "markdown",
   "id": "01c30fc2",
   "metadata": {},
   "source": [
    "## Reduce memory footprint with IOBinding"
   ]
  },
  {
   "cell_type": "markdown",
   "id": "821734e0",
   "metadata": {},
   "source": [
    "IOBinding is an efficient way to avoid expensive data copying when using GPUs. By default, ONNX Runtime will copy the input from the CPU (even if the tensors are already copied to the targeted device), and assume that outputs also need to be copied back to the CPU from GPUs after the run. These data copying overheads between the host and devices are expensive, and can lead to worse inference latency than vanilla PyTorch especially for the decoding process."
   ]
  },
  {
   "cell_type": "markdown",
   "id": "04d043fb",
   "metadata": {},
   "source": [
    "To avoid the slowdown, 🤗 Optimum adopts the IOBinding to copy inputs onto GPUs and pre-allocate memory for outputs prior the inference. When instanciating the ORTModel, set the value of the argument use_io_binding to choose whether to turn on the IOBinding during the inference. use_io_binding is set to True by default, if you choose CUDA as execution provider."
   ]
  },
  {
   "cell_type": "code",
   "execution_count": 17,
   "id": "ca8e8bbb",
   "metadata": {},
   "outputs": [],
   "source": [
    "#And if you want to turn off IOBinding:\n",
    "\n",
    "\n",
    "from transformers import AutoTokenizer, pipeline\n",
    "from optimum.onnxruntime import ORTModelForSeq2SeqLM"
   ]
  },
  {
   "cell_type": "code",
   "execution_count": 18,
   "id": "60c0ca7c",
   "metadata": {},
   "outputs": [
    {
     "name": "stderr",
     "output_type": "stream",
     "text": [
      "2024-01-24 11:58:13,208 urllib3.connectionpool [DEBUG] - https://huggingface.co:443 \"HEAD /t5-small/resolve/main/config.json HTTP/1.1\" 200 0\n",
      "2024-01-24 11:58:13,219 filelock [DEBUG] - Attempting to acquire lock 139964265352016 on /home/ranga/.cache/huggingface/hub/.locks/models--t5-small/378f74060b20f6a9a1ea41b03fc0504466206255.lock\n",
      "2024-01-24 11:58:13,221 filelock [DEBUG] - Lock 139964265352016 acquired on /home/ranga/.cache/huggingface/hub/.locks/models--t5-small/378f74060b20f6a9a1ea41b03fc0504466206255.lock\n",
      "2024-01-24 11:58:13,470 urllib3.connectionpool [DEBUG] - https://huggingface.co:443 \"GET /t5-small/resolve/main/config.json HTTP/1.1\" 200 1206\n"
     ]
    },
    {
     "data": {
      "application/vnd.jupyter.widget-view+json": {
       "model_id": "b24720e1f6284c27adb9ecf6cd75f28f",
       "version_major": 2,
       "version_minor": 0
      },
      "text/plain": [
       "config.json:   0%|          | 0.00/1.21k [00:00<?, ?B/s]"
      ]
     },
     "metadata": {},
     "output_type": "display_data"
    },
    {
     "name": "stderr",
     "output_type": "stream",
     "text": [
      "2024-01-24 11:58:13,486 filelock [DEBUG] - Attempting to release lock 139964265352016 on /home/ranga/.cache/huggingface/hub/.locks/models--t5-small/378f74060b20f6a9a1ea41b03fc0504466206255.lock\n",
      "2024-01-24 11:58:13,486 filelock [DEBUG] - Lock 139964265352016 released on /home/ranga/.cache/huggingface/hub/.locks/models--t5-small/378f74060b20f6a9a1ea41b03fc0504466206255.lock\n",
      "2024-01-24 11:58:13,738 urllib3.connectionpool [DEBUG] - https://huggingface.co:443 \"GET /api/models/t5-small/tree/main?recursive=True&expand=False HTTP/1.1\" 200 3839\n",
      "Framework not specified. Using pt to export to ONNX.\n",
      "2024-01-24 11:58:14,057 urllib3.connectionpool [DEBUG] - https://huggingface.co:443 \"GET /api/models/t5-small HTTP/1.1\" 200 12717\n",
      "2024-01-24 11:58:14,297 urllib3.connectionpool [DEBUG] - https://huggingface.co:443 \"HEAD /t5-small/resolve/main/config.json HTTP/1.1\" 200 0\n",
      "2024-01-24 11:58:14,541 urllib3.connectionpool [DEBUG] - https://huggingface.co:443 \"HEAD /t5-small/resolve/main/config.json HTTP/1.1\" 200 0\n",
      "2024-01-24 11:58:14,789 urllib3.connectionpool [DEBUG] - https://huggingface.co:443 \"HEAD /t5-small/resolve/main/config.json HTTP/1.1\" 200 0\n",
      "2024-01-24 11:58:15,054 urllib3.connectionpool [DEBUG] - https://huggingface.co:443 \"HEAD /t5-small/resolve/main/model.safetensors HTTP/1.1\" 302 0\n",
      "2024-01-24 11:58:15,058 filelock [DEBUG] - Attempting to acquire lock 139964177537040 on /home/ranga/.cache/huggingface/hub/.locks/models--t5-small/bd944e5f1b3ad9b70dd9d00010a517059e19265671076b8b0a4a58d9491842bc.lock\n",
      "2024-01-24 11:58:15,059 filelock [DEBUG] - Lock 139964177537040 acquired on /home/ranga/.cache/huggingface/hub/.locks/models--t5-small/bd944e5f1b3ad9b70dd9d00010a517059e19265671076b8b0a4a58d9491842bc.lock\n",
      "2024-01-24 11:58:15,073 urllib3.connectionpool [DEBUG] - Starting new HTTPS connection (1): cdn-lfs.huggingface.co:443\n",
      "2024-01-24 11:58:16,227 urllib3.connectionpool [DEBUG] - https://cdn-lfs.huggingface.co:443 \"GET /t5-small/bd944e5f1b3ad9b70dd9d00010a517059e19265671076b8b0a4a58d9491842bc?response-content-disposition=attachment%3B+filename*%3DUTF-8%27%27model.safetensors%3B+filename%3D%22model.safetensors%22%3B&Expires=1706336894&Policy=eyJTdGF0ZW1lbnQiOlt7IkNvbmRpdGlvbiI6eyJEYXRlTGVzc1RoYW4iOnsiQVdTOkVwb2NoVGltZSI6MTcwNjMzNjg5NH19LCJSZXNvdXJjZSI6Imh0dHBzOi8vY2RuLWxmcy5odWdnaW5nZmFjZS5jby90NS1zbWFsbC9iZDk0NGU1ZjFiM2FkOWI3MGRkOWQwMDAxMGE1MTcwNTllMTkyNjU2NzEwNzZiOGIwYTRhNThkOTQ5MTg0MmJjP3Jlc3BvbnNlLWNvbnRlbnQtZGlzcG9zaXRpb249KiJ9XX0_&Signature=J5voh14epCpLuSHQ3~tw7Dyf9xR~o7mK6A1CE8-0X177~sGySCCd-rLSK7VZD4wRag89nqhDt0k7KnetOn9HLy2od0bxd30mQz3RbjBu2APeB64tp08ZdSPo3WUkSbfhLH0i9kZEDS4-1SAYh-RgthV113Us5NqiDMG6Uk5ZcHORGdwXA0st6N4-Iqcmey~6wvvIitaMlgzHG-H-HDTls0YolJUEigLlxxM7DtejwPMD1PoGOFxr-eHIEV7dvl5xA2xxY2o6LjY0IBGBCLpmnlFtDHRYhSyxQkxUSSrlPF5nlfka4QG9c4OuYWZhRoFACLyBQlSD7DsuolibL8vrog__&Key-Pair-Id=KVTP0A1DKRTAX HTTP/1.1\" 200 242043056\n"
     ]
    },
    {
     "data": {
      "application/vnd.jupyter.widget-view+json": {
       "model_id": "055a5154b4e1405fb2ce98eb4b72dec0",
       "version_major": 2,
       "version_minor": 0
      },
      "text/plain": [
       "model.safetensors:   0%|          | 0.00/242M [00:00<?, ?B/s]"
      ]
     },
     "metadata": {},
     "output_type": "display_data"
    },
    {
     "name": "stderr",
     "output_type": "stream",
     "text": [
      "2024-01-24 11:59:25,261 filelock [DEBUG] - Attempting to release lock 139964177537040 on /home/ranga/.cache/huggingface/hub/.locks/models--t5-small/bd944e5f1b3ad9b70dd9d00010a517059e19265671076b8b0a4a58d9491842bc.lock\n",
      "2024-01-24 11:59:25,262 filelock [DEBUG] - Lock 139964177537040 released on /home/ranga/.cache/huggingface/hub/.locks/models--t5-small/bd944e5f1b3ad9b70dd9d00010a517059e19265671076b8b0a4a58d9491842bc.lock\n",
      "2024-01-24 11:59:25,935 urllib3.connectionpool [DEBUG] - https://huggingface.co:443 \"HEAD /t5-small/resolve/main/generation_config.json HTTP/1.1\" 200 0\n",
      "2024-01-24 11:59:25,938 filelock [DEBUG] - Attempting to acquire lock 139963927716496 on /home/ranga/.cache/huggingface/hub/.locks/models--t5-small/d52815623b46b7db1c4b957b5a83a8ad30b0146a.lock\n",
      "2024-01-24 11:59:25,939 filelock [DEBUG] - Lock 139963927716496 acquired on /home/ranga/.cache/huggingface/hub/.locks/models--t5-small/d52815623b46b7db1c4b957b5a83a8ad30b0146a.lock\n",
      "2024-01-24 11:59:26,193 urllib3.connectionpool [DEBUG] - https://huggingface.co:443 \"GET /t5-small/resolve/main/generation_config.json HTTP/1.1\" 200 147\n"
     ]
    },
    {
     "data": {
      "application/vnd.jupyter.widget-view+json": {
       "model_id": "cdff59c5f2d74221a1779b97509814db",
       "version_major": 2,
       "version_minor": 0
      },
      "text/plain": [
       "generation_config.json:   0%|          | 0.00/147 [00:00<?, ?B/s]"
      ]
     },
     "metadata": {},
     "output_type": "display_data"
    },
    {
     "name": "stderr",
     "output_type": "stream",
     "text": [
      "2024-01-24 11:59:26,213 filelock [DEBUG] - Attempting to release lock 139963927716496 on /home/ranga/.cache/huggingface/hub/.locks/models--t5-small/d52815623b46b7db1c4b957b5a83a8ad30b0146a.lock\n",
      "2024-01-24 11:59:26,214 filelock [DEBUG] - Lock 139963927716496 released on /home/ranga/.cache/huggingface/hub/.locks/models--t5-small/d52815623b46b7db1c4b957b5a83a8ad30b0146a.lock\n",
      "2024-01-24 11:59:26,533 urllib3.connectionpool [DEBUG] - https://huggingface.co:443 \"HEAD /t5-small/resolve/main/tokenizer_config.json HTTP/1.1\" 200 0\n",
      "2024-01-24 11:59:26,535 filelock [DEBUG] - Attempting to acquire lock 139963936207440 on /home/ranga/.cache/huggingface/hub/.locks/models--t5-small/4fd6c49c32ecf41886dba213d40030f063c72b07.lock\n",
      "2024-01-24 11:59:26,537 filelock [DEBUG] - Lock 139963936207440 acquired on /home/ranga/.cache/huggingface/hub/.locks/models--t5-small/4fd6c49c32ecf41886dba213d40030f063c72b07.lock\n",
      "2024-01-24 11:59:26,785 urllib3.connectionpool [DEBUG] - https://huggingface.co:443 \"GET /t5-small/resolve/main/tokenizer_config.json HTTP/1.1\" 200 2324\n"
     ]
    },
    {
     "data": {
      "application/vnd.jupyter.widget-view+json": {
       "model_id": "e4ce8494aedb4e84ba0183aae33fc60b",
       "version_major": 2,
       "version_minor": 0
      },
      "text/plain": [
       "tokenizer_config.json:   0%|          | 0.00/2.32k [00:00<?, ?B/s]"
      ]
     },
     "metadata": {},
     "output_type": "display_data"
    },
    {
     "name": "stderr",
     "output_type": "stream",
     "text": [
      "2024-01-24 11:59:26,809 filelock [DEBUG] - Attempting to release lock 139963936207440 on /home/ranga/.cache/huggingface/hub/.locks/models--t5-small/4fd6c49c32ecf41886dba213d40030f063c72b07.lock\n",
      "2024-01-24 11:59:26,809 filelock [DEBUG] - Lock 139963936207440 released on /home/ranga/.cache/huggingface/hub/.locks/models--t5-small/4fd6c49c32ecf41886dba213d40030f063c72b07.lock\n",
      "2024-01-24 11:59:27,058 urllib3.connectionpool [DEBUG] - https://huggingface.co:443 \"HEAD /t5-small/resolve/main/spiece.model HTTP/1.1\" 200 0\n",
      "2024-01-24 11:59:27,060 filelock [DEBUG] - Attempting to acquire lock 139963924264016 on /home/ranga/.cache/huggingface/hub/.locks/models--t5-small/4e28ff6ebdf584f5372d9de68867399142435d9a.lock\n",
      "2024-01-24 11:59:27,062 filelock [DEBUG] - Lock 139963924264016 acquired on /home/ranga/.cache/huggingface/hub/.locks/models--t5-small/4e28ff6ebdf584f5372d9de68867399142435d9a.lock\n",
      "2024-01-24 11:59:27,308 urllib3.connectionpool [DEBUG] - https://huggingface.co:443 \"GET /t5-small/resolve/main/spiece.model HTTP/1.1\" 200 791656\n"
     ]
    },
    {
     "data": {
      "application/vnd.jupyter.widget-view+json": {
       "model_id": "4841de00bbb94d889eeef868a18b5708",
       "version_major": 2,
       "version_minor": 0
      },
      "text/plain": [
       "spiece.model:   0%|          | 0.00/792k [00:00<?, ?B/s]"
      ]
     },
     "metadata": {},
     "output_type": "display_data"
    },
    {
     "name": "stderr",
     "output_type": "stream",
     "text": [
      "2024-01-24 11:59:27,555 filelock [DEBUG] - Attempting to release lock 139963924264016 on /home/ranga/.cache/huggingface/hub/.locks/models--t5-small/4e28ff6ebdf584f5372d9de68867399142435d9a.lock\n",
      "2024-01-24 11:59:27,556 filelock [DEBUG] - Lock 139963924264016 released on /home/ranga/.cache/huggingface/hub/.locks/models--t5-small/4e28ff6ebdf584f5372d9de68867399142435d9a.lock\n",
      "2024-01-24 11:59:27,800 urllib3.connectionpool [DEBUG] - https://huggingface.co:443 \"HEAD /t5-small/resolve/main/tokenizer.json HTTP/1.1\" 200 0\n",
      "2024-01-24 11:59:27,803 filelock [DEBUG] - Attempting to acquire lock 139963924264016 on /home/ranga/.cache/huggingface/hub/.locks/models--t5-small/41911369be79611d82d152725113e66206bd7b79.lock\n",
      "2024-01-24 11:59:27,804 filelock [DEBUG] - Lock 139963924264016 acquired on /home/ranga/.cache/huggingface/hub/.locks/models--t5-small/41911369be79611d82d152725113e66206bd7b79.lock\n",
      "2024-01-24 11:59:28,045 urllib3.connectionpool [DEBUG] - https://huggingface.co:443 \"GET /t5-small/resolve/main/tokenizer.json HTTP/1.1\" 200 1389353\n"
     ]
    },
    {
     "data": {
      "application/vnd.jupyter.widget-view+json": {
       "model_id": "c3c2c9a270f04c86bc459e872d7bf9f8",
       "version_major": 2,
       "version_minor": 0
      },
      "text/plain": [
       "tokenizer.json:   0%|          | 0.00/1.39M [00:00<?, ?B/s]"
      ]
     },
     "metadata": {},
     "output_type": "display_data"
    },
    {
     "name": "stderr",
     "output_type": "stream",
     "text": [
      "2024-01-24 11:59:28,424 filelock [DEBUG] - Attempting to release lock 139963924264016 on /home/ranga/.cache/huggingface/hub/.locks/models--t5-small/41911369be79611d82d152725113e66206bd7b79.lock\n",
      "2024-01-24 11:59:28,425 filelock [DEBUG] - Lock 139963924264016 released on /home/ranga/.cache/huggingface/hub/.locks/models--t5-small/41911369be79611d82d152725113e66206bd7b79.lock\n",
      "2024-01-24 11:59:28,687 urllib3.connectionpool [DEBUG] - https://huggingface.co:443 \"HEAD /t5-small/resolve/main/added_tokens.json HTTP/1.1\" 404 0\n",
      "2024-01-24 11:59:28,932 urllib3.connectionpool [DEBUG] - https://huggingface.co:443 \"HEAD /t5-small/resolve/main/special_tokens_map.json HTTP/1.1\" 404 0\n",
      "2024-01-24 11:59:29,234 urllib3.connectionpool [DEBUG] - https://huggingface.co:443 \"HEAD /t5-small/resolve/main/preprocessor_config.json HTTP/1.1\" 404 0\n",
      "2024-01-24 11:59:29,482 urllib3.connectionpool [DEBUG] - https://huggingface.co:443 \"HEAD /t5-small/resolve/main/tokenizer_config.json HTTP/1.1\" 200 0\n",
      "2024-01-24 11:59:29,730 urllib3.connectionpool [DEBUG] - https://huggingface.co:443 \"HEAD /t5-small/resolve/main/config.json HTTP/1.1\" 200 0\n",
      "2024-01-24 11:59:29,975 urllib3.connectionpool [DEBUG] - https://huggingface.co:443 \"HEAD /t5-small/resolve/main/tokenizer_config.json HTTP/1.1\" 200 0\n",
      "2024-01-24 11:59:30,254 urllib3.connectionpool [DEBUG] - https://huggingface.co:443 \"HEAD /t5-small/resolve/main/preprocessor_config.json HTTP/1.1\" 404 0\n",
      "Using the export variant default. Available variants are:\n",
      "    - default: The default ONNX variant.\n",
      "2024-01-24 11:59:30,503 urllib3.connectionpool [DEBUG] - https://huggingface.co:443 \"HEAD /t5-small/resolve/main/tokenizer_config.json HTTP/1.1\" 200 0\n",
      "2024-01-24 11:59:30,790 urllib3.connectionpool [DEBUG] - https://huggingface.co:443 \"HEAD /t5-small/resolve/main/preprocessor_config.json HTTP/1.1\" 404 0\n",
      "2024-01-24 11:59:31,048 urllib3.connectionpool [DEBUG] - https://huggingface.co:443 \"HEAD /t5-small/resolve/main/tokenizer_config.json HTTP/1.1\" 200 0\n",
      "2024-01-24 11:59:31,292 urllib3.connectionpool [DEBUG] - https://huggingface.co:443 \"HEAD /t5-small/resolve/main/config.json HTTP/1.1\" 200 0\n",
      "2024-01-24 11:59:31,543 urllib3.connectionpool [DEBUG] - https://huggingface.co:443 \"HEAD /t5-small/resolve/main/tokenizer_config.json HTTP/1.1\" 200 0\n",
      "2024-01-24 11:59:31,990 urllib3.connectionpool [DEBUG] - https://huggingface.co:443 \"HEAD /t5-small/resolve/main/preprocessor_config.json HTTP/1.1\" 404 0\n",
      "Using framework PyTorch: 2.1.2+cu121\n",
      "Overriding 1 configuration item(s)\n",
      "\t- use_cache -> False\n",
      "Using framework PyTorch: 2.1.2+cu121\n",
      "Overriding 1 configuration item(s)\n",
      "\t- use_cache -> True\n",
      "/home/ranga/anaconda3/lib/python3.11/site-packages/transformers/modeling_utils.py:866: TracerWarning: Converting a tensor to a Python boolean might cause the trace to be incorrect. We can't record the data flow of Python values, so this value will be treated as a constant in the future. This means that the trace might not generalize to other inputs!\n",
      "  if causal_mask.shape[1] < attention_mask.shape[1]:\n",
      "Using framework PyTorch: 2.1.2+cu121\n",
      "Overriding 1 configuration item(s)\n",
      "\t- use_cache -> True\n",
      "/home/ranga/anaconda3/lib/python3.11/site-packages/transformers/models/t5/modeling_t5.py:509: TracerWarning: Converting a tensor to a Python boolean might cause the trace to be incorrect. We can't record the data flow of Python values, so this value will be treated as a constant in the future. This means that the trace might not generalize to other inputs!\n",
      "  elif past_key_value.shape[2] != key_value_states.shape[1]:\n",
      "In-place op on output of tensor.shape. See https://pytorch.org/docs/master/onnx.html#avoid-inplace-operations-when-using-tensor-shape-in-tracing-mode\n",
      "In-place op on output of tensor.shape. See https://pytorch.org/docs/master/onnx.html#avoid-inplace-operations-when-using-tensor-shape-in-tracing-mode\n",
      "2024-01-24 11:59:37,606 urllib3.connectionpool [DEBUG] - https://huggingface.co:443 \"HEAD /t5-small/resolve/main/tokenizer_config.json HTTP/1.1\" 200 0\n",
      "2024-01-24 11:59:37,907 urllib3.connectionpool [DEBUG] - https://huggingface.co:443 \"HEAD /t5-small/resolve/main/preprocessor_config.json HTTP/1.1\" 404 0\n",
      "2024-01-24 11:59:38,157 urllib3.connectionpool [DEBUG] - https://huggingface.co:443 \"HEAD /t5-small/resolve/main/tokenizer_config.json HTTP/1.1\" 200 0\n",
      "2024-01-24 11:59:38,398 urllib3.connectionpool [DEBUG] - https://huggingface.co:443 \"HEAD /t5-small/resolve/main/config.json HTTP/1.1\" 200 0\n",
      "2024-01-24 11:59:38,643 urllib3.connectionpool [DEBUG] - https://huggingface.co:443 \"HEAD /t5-small/resolve/main/tokenizer_config.json HTTP/1.1\" 200 0\n",
      "2024-01-24 11:59:38,926 urllib3.connectionpool [DEBUG] - https://huggingface.co:443 \"HEAD /t5-small/resolve/main/preprocessor_config.json HTTP/1.1\" 404 0\n",
      "2024-01-24 11:59:40,029 urllib3.connectionpool [DEBUG] - https://huggingface.co:443 \"HEAD /t5-small/resolve/main/tokenizer_config.json HTTP/1.1\" 200 0\n"
     ]
    }
   ],
   "source": [
    "# Load the model from the hub and export it to the ONNX format\n",
    "model = ORTModelForSeq2SeqLM.from_pretrained(\"t5-small\", export=True, use_io_binding=False)\n",
    "tokenizer = AutoTokenizer.from_pretrained(\"t5-small\")"
   ]
  },
  {
   "cell_type": "code",
   "execution_count": 19,
   "id": "bb3b2e73",
   "metadata": {},
   "outputs": [
    {
     "name": "stderr",
     "output_type": "stream",
     "text": [
      "2024-01-24 12:00:06.835635247 [W:onnxruntime:, session_state.cc:1162 VerifyEachNodeIsAssignedToAnEp] Some nodes were not assigned to the preferred execution providers which may or may not have an negative impact on performance. e.g. ORT explicitly assigns shape related ops to CPU to improve perf.\n",
      "2024-01-24 12:00:06.835649568 [W:onnxruntime:, session_state.cc:1164 VerifyEachNodeIsAssignedToAnEp] Rerunning with verbose output on a non-minimal build will show node assignments.\n",
      "2024-01-24 12:00:07.098517772 [W:onnxruntime:, session_state.cc:1162 VerifyEachNodeIsAssignedToAnEp] Some nodes were not assigned to the preferred execution providers which may or may not have an negative impact on performance. e.g. ORT explicitly assigns shape related ops to CPU to improve perf.\n",
      "2024-01-24 12:00:07.098532500 [W:onnxruntime:, session_state.cc:1164 VerifyEachNodeIsAssignedToAnEp] Rerunning with verbose output on a non-minimal build will show node assignments.\n",
      "2024-01-24 12:00:07.402265301 [W:onnxruntime:, session_state.cc:1162 VerifyEachNodeIsAssignedToAnEp] Some nodes were not assigned to the preferred execution providers which may or may not have an negative impact on performance. e.g. ORT explicitly assigns shape related ops to CPU to improve perf.\n",
      "2024-01-24 12:00:07.402278809 [W:onnxruntime:, session_state.cc:1164 VerifyEachNodeIsAssignedToAnEp] Rerunning with verbose output on a non-minimal build will show node assignments.\n"
     ]
    }
   ],
   "source": [
    "# Create a pipeline\n",
    "onnx_translation = pipeline(\"translation_en_to_fr\", model=model, tokenizer=tokenizer, device=\"cuda:0\")"
   ]
  },
  {
   "cell_type": "markdown",
   "id": "102ce8af",
   "metadata": {},
   "source": [
    "For the time being, IOBinding is supported for task-defined ORT models, if you want us to add support for custom models, file us an issue on the Optimum’s repository."
   ]
  }
 ],
 "metadata": {
  "kernelspec": {
   "display_name": "Python 3 (ipykernel)",
   "language": "python",
   "name": "python3"
  },
  "language_info": {
   "codemirror_mode": {
    "name": "ipython",
    "version": 3
   },
   "file_extension": ".py",
   "mimetype": "text/x-python",
   "name": "python",
   "nbconvert_exporter": "python",
   "pygments_lexer": "ipython3",
   "version": "3.11.5"
  }
 },
 "nbformat": 4,
 "nbformat_minor": 5
}
